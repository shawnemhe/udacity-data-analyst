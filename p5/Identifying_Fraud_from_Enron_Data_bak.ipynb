{
 "cells": [
  {
   "cell_type": "markdown",
   "metadata": {},
   "source": [
    "# Identifying Fraud from Enron Data\n",
    "\n",
    "## Objective\n",
    "\n",
    "This project will use machine learning to attempt to identify persons of interest from the Enron financial scandel. Persons of Interest (POIs) were defined at the onset by Udacity using resource created by USA Today <cite data-cite=\"6112171/BAJ6H3FC\"></cite>. \n",
    "\n",
    "Two data resources were identified by Udacity for identifying POIs. The first is the Enron Email Datset maintained by Carnegie Mellon University <cite data-cite=\"6112171/GLPDFEY4\"></cite>. The email dataset contains a corpus of close to 500,000 email messages from Enron's servers. The second is a dataset created by Udacity with a collection of useful information for the task. It contains both financial features as well as aggregate information about the email dataset. \n",
    "\n",
    "Machine learning excels at this type of task because it can be used to process large amounts of information in a way that would be time consuming if done by hand. Machine learning algorithms use statistical methods to *learn* from data and can then make inferences based on the relationships they have found. Although developing the algorithms takes considerable amount of care and effort in itself, when completed they can be used to process the entire email dataset within minutes.\n",
    "\n",
    "### Data Exploration\n",
    "The data was loaded into a pandas dataframes to simplify exploration and visualization. There were 146 entries in the dataset and 21 features. 18 (12%) of the entries were identified as persons of interest.\n",
    "\n",
    "I decided to separate the dataset into two data frames for exploration because of its split nature. The financial information came from a document attributed to Findlaw.com. Wheras the email information was compiled by aggregating information form the Enron Email corpus. For this reason it made sense to divide the data when looking for trends and similarities between the features."
   ]
  },
  {
   "cell_type": "markdown",
   "metadata": {},
   "source": [
    "### Outlier Investigation\n",
    "\n",
    "To search for outliers I used the zscore function from scipy. The function normalizes values as a measurement of standard devations from the mean. This makes it easier to analyze values in context to how far they stand out from the rest of the data.  I created a screened for any values with a zscore above 3.\n",
    "\n",
    "In the first run through finacial data I found 'BHATNAGAR SANJAY', 'LAY KENNETH L',  and 'TOTAL'. The 'TOTAL' entry prompted me to seach through the Findlaw.com document for other unusual items. I also found a travel agency that needed to be removed.\n",
    "\n",
    "Removing the TOTAL entry affected the zscores and there were now many more outliers. Plotting the data showed that most of the financial features were positively skeweed. This made sense, considering the presense of executives and directors in the data. Their compensation was far beyond the rest of the employess. They also receive unique types of compensation such as restricted stock and director fees which other employees are not paid. These outliers did not represent errors were kept.\n",
    "\n",
    "The email data had fewer findings. And some outliers were expected. Individuals who regularly contacted POIs stood out from those who didn't because the POIs only make up a small portion of the email corpus. However, the persons who were identified as outliers for non-POI related fields represent a risk in data leakage. I did some searching and confirmed that these individuals held high level positions at Enron. It is likely they had a higher presense in the email corpus because they were the focus of investigations. This created a potential problem where the focus of the investigation could leak in as a factor in identifying POIs.\n",
    "\n",
    "To counter this I decided to create percentage based representations of the POI features. In this way a classifier cannot know how many total emails are present for a given person in the database."
   ]
  },
  {
   "cell_type": "code",
   "execution_count": 1,
   "metadata": {},
   "outputs": [],
   "source": [
    "import pickle\n",
    "import pandas as pd\n",
    "import numpy as np\n",
    "\n",
    "# Load dataset\n",
    "with open('final_project/final_project_dataset.pkl', 'r') as f:\n",
    "    data_dict = pickle.load(f)\n",
    "\n",
    "# Convert to dataframe\n",
    "df = pd.DataFrame(data_dict).T\n",
    "\n",
    "# Drop outliers\n",
    "df.drop(['TOTAL', 'THE TRAVEL AGENCY IN THE PARK'], inplace=True)\n",
    "\n",
    "# Drop useless column\n",
    "df.drop('email_address', axis=1, inplace=True)\n",
    "\n",
    "# Columns can now all be converted to numeric\n",
    "df = df.applymap(float)\n",
    "\n",
    "# Add new features\n",
    "df['bonus_ratio'] = df.bonus / df.salary\n",
    "df['stock_ratio'] = df.total_stock_value / df.total_payments\n",
    "df['from_this_person_to_poi_ratio'] = df['from_this_person_to_poi'] / df['from_messages']\n",
    "df['from_poi_to_this_person_ratio'] = df['from_poi_to_this_person'] / df['to_messages']"
   ]
  },
  {
   "cell_type": "code",
   "execution_count": 2,
   "metadata": {},
   "outputs": [
    {
     "name": "stdout",
     "output_type": "stream",
     "text": [
      "Dropping deferral_payments, 0.736111111111 null\n",
      "Dropping deferred_income, 0.666666666667 null\n",
      "Dropping director_fees, 0.888888888889 null\n",
      "Dropping loan_advances, 0.979166666667 null\n",
      "Dropping restricted_stock_deferred, 0.881944444444 null\n"
     ]
    }
   ],
   "source": [
    "for feature,value in df.isnull().sum().iteritems():\n",
    "    pct_null = value / float(len(df))\n",
    "    if feature != 'poi' and pct_null > .6:\n",
    "        print 'Dropping {0}, {1} null'.format(feature, pct_null)\n",
    "        df.drop(feature, axis=1, inplace=True)"
   ]
  },
  {
   "cell_type": "code",
   "execution_count": 3,
   "metadata": {},
   "outputs": [
    {
     "data": {
      "text/plain": [
       "['bonus',\n",
       " 'exercised_stock_options',\n",
       " 'expenses',\n",
       " 'from_messages',\n",
       " 'from_poi_to_this_person',\n",
       " 'from_this_person_to_poi',\n",
       " 'long_term_incentive',\n",
       " 'other',\n",
       " 'restricted_stock',\n",
       " 'salary',\n",
       " 'shared_receipt_with_poi',\n",
       " 'to_messages',\n",
       " 'total_payments',\n",
       " 'total_stock_value',\n",
       " 'bonus_ratio',\n",
       " 'stock_ratio',\n",
       " 'from_this_person_to_poi_ratio',\n",
       " 'from_poi_to_this_person_ratio']"
      ]
     },
     "execution_count": 3,
     "metadata": {},
     "output_type": "execute_result"
    }
   ],
   "source": [
    "features = df.columns.tolist()\n",
    "features.remove('poi')\n",
    "features"
   ]
  },
  {
   "cell_type": "code",
   "execution_count": 4,
   "metadata": {},
   "outputs": [
    {
     "data": {
      "text/plain": [
       "SelectKBest(k=10, score_func=<function f_classif at 0x000000000BE18DD8>)"
      ]
     },
     "execution_count": 4,
     "metadata": {},
     "output_type": "execute_result"
    }
   ],
   "source": [
    "from sklearn.feature_selection import SelectKBest, f_classif\n",
    "\n",
    "X = df[features].fillna(0)\n",
    "y = df['poi']\n",
    "\n",
    "sel = SelectKBest(f_classif)\n",
    "\n",
    "sel.fit(X, y)"
   ]
  },
  {
   "cell_type": "code",
   "execution_count": 5,
   "metadata": {
    "scrolled": false
   },
   "outputs": [
    {
     "name": "stdout",
     "output_type": "stream",
     "text": [
      "bonus                            0.000010\n",
      "exercised_stock_options          0.000002\n",
      "expenses                         0.013673\n",
      "from_poi_to_this_person          0.022221\n",
      "long_term_incentive              0.001845\n",
      "other                            0.041164\n",
      "restricted_stock                 0.002670\n",
      "salary                           0.000030\n",
      "shared_receipt_with_poi          0.003634\n",
      "total_payments                   0.003403\n",
      "total_stock_value                0.000002\n",
      "bonus_ratio                      0.001183\n",
      "from_this_person_to_poi_ratio    0.000075\n",
      "dtype: float64\n",
      "13\n"
     ]
    }
   ],
   "source": [
    "feature_pvalues = pd.Series(sel.pvalues_, index=features)\n",
    "feature_pvalues = feature_pvalues[feature_pvalues < .05]\n",
    "filtered_features = feature_pvalues.index.tolist()\n",
    "print feature_pvalues\n",
    "print len(feature_pvalues)"
   ]
  },
  {
   "cell_type": "code",
   "execution_count": 6,
   "metadata": {},
   "outputs": [
    {
     "data": {
      "text/plain": [
       "bonus                            1\n",
       "exercised_stock_options          2\n",
       "expenses                         1\n",
       "from_poi_to_this_person          1\n",
       "long_term_incentive              1\n",
       "other                            1\n",
       "restricted_stock                 1\n",
       "salary                           1\n",
       "shared_receipt_with_poi          1\n",
       "total_payments                   1\n",
       "total_stock_value                2\n",
       "bonus_ratio                      1\n",
       "from_this_person_to_poi_ratio    1\n",
       "dtype: int64"
      ]
     },
     "execution_count": 6,
     "metadata": {},
     "output_type": "execute_result"
    }
   ],
   "source": [
    "df[filtered_features].corr().gt(.9).sum()"
   ]
  },
  {
   "cell_type": "code",
   "execution_count": 7,
   "metadata": {},
   "outputs": [],
   "source": [
    "filtered_features.remove('total_stock_value')\n",
    "filtered_features.remove('total_payments')"
   ]
  },
  {
   "cell_type": "code",
   "execution_count": 58,
   "metadata": {},
   "outputs": [
    {
     "data": {
      "text/plain": [
       "['bonus',\n",
       " 'exercised_stock_options',\n",
       " 'expenses',\n",
       " 'from_poi_to_this_person',\n",
       " 'long_term_incentive',\n",
       " 'other',\n",
       " 'restricted_stock',\n",
       " 'salary',\n",
       " 'shared_receipt_with_poi',\n",
       " 'bonus_ratio',\n",
       " 'from_this_person_to_poi_ratio']"
      ]
     },
     "execution_count": 58,
     "metadata": {},
     "output_type": "execute_result"
    }
   ],
   "source": [
    "filtered_features"
   ]
  },
  {
   "cell_type": "code",
   "execution_count": 8,
   "metadata": {},
   "outputs": [
    {
     "data": {
      "text/plain": [
       "u'<table border=\"1\" class=\"dataframe\">\\n  <thead>\\n    <tr style=\"text-align: right;\">\\n      <th></th>\\n      <th>0</th>\\n    </tr>\\n  </thead>\\n  <tbody>\\n    <tr>\\n      <th>bonus</th>\\n      <td>0.000010</td>\\n    </tr>\\n    <tr>\\n      <th>exercised_stock_options</th>\\n      <td>0.000002</td>\\n    </tr>\\n    <tr>\\n      <th>expenses</th>\\n      <td>0.013673</td>\\n    </tr>\\n    <tr>\\n      <th>from_poi_to_this_person</th>\\n      <td>0.022221</td>\\n    </tr>\\n    <tr>\\n      <th>long_term_incentive</th>\\n      <td>0.001845</td>\\n    </tr>\\n    <tr>\\n      <th>other</th>\\n      <td>0.041164</td>\\n    </tr>\\n    <tr>\\n      <th>restricted_stock</th>\\n      <td>0.002670</td>\\n    </tr>\\n    <tr>\\n      <th>salary</th>\\n      <td>0.000030</td>\\n    </tr>\\n    <tr>\\n      <th>shared_receipt_with_poi</th>\\n      <td>0.003634</td>\\n    </tr>\\n    <tr>\\n      <th>bonus_ratio</th>\\n      <td>0.001183</td>\\n    </tr>\\n    <tr>\\n      <th>from_this_person_to_poi_ratio</th>\\n      <td>0.000075</td>\\n    </tr>\\n  </tbody>\\n</table>'"
      ]
     },
     "execution_count": 8,
     "metadata": {},
     "output_type": "execute_result"
    }
   ],
   "source": [
    "feature_pvalues[filtered_features].to_frame().to_html()"
   ]
  },
  {
   "cell_type": "code",
   "execution_count": 9,
   "metadata": {},
   "outputs": [],
   "source": [
    "from sklearn.pipeline import Pipeline\n",
    "from sklearn.model_selection import GridSearchCV, StratifiedShuffleSplit\n",
    "from sklearn.preprocessing import StandardScaler, MinMaxScaler, MaxAbsScaler, RobustScaler\n",
    "from sklearn.feature_selection import SelectKBest, f_classif\n",
    "from sklearn.svm import LinearSVC\n",
    "from sklearn.neighbors import KNeighborsClassifier\n",
    "from sklearn.tree import DecisionTreeClassifier\n",
    "from sklearn.ensemble import AdaBoostClassifier\n",
    "from sklearn.metrics import f1_score"
   ]
  },
  {
   "cell_type": "code",
   "execution_count": 51,
   "metadata": {},
   "outputs": [],
   "source": [
    "# Build the pipeline and grid search.\n",
    "\n",
    "pipe = Pipeline([\n",
    "    ('scale', MinMaxScaler()),\n",
    "    ('reduce_dim', SelectKBest(f_classif)),\n",
    "    ('classifier', LinearSVC())\n",
    "])\n",
    "\n",
    "n_features = np.arange(1, len(filtered_features)+1)\n",
    "\n",
    "param_grid = [\n",
    "    {\n",
    "        'reduce_dim__k': n_features,\n",
    "        'classifier': [LinearSVC(), KNeighborsClassifier(n_neighbors=2),\n",
    "                       DecisionTreeClassifier(), AdaBoostClassifier()],\n",
    "    }\n",
    "]\n",
    "\n",
    "grid = GridSearchCV(pipe, cv=StratifiedShuffleSplit(n_splits=50, random_state=35),\n",
    "                    param_grid=param_grid, scoring='f1', n_jobs=8)"
   ]
  },
  {
   "cell_type": "code",
   "execution_count": 52,
   "metadata": {},
   "outputs": [
    {
     "data": {
      "text/plain": [
       "GridSearchCV(cv=StratifiedShuffleSplit(n_splits=50, random_state=35, test_size='default',\n",
       "            train_size=None),\n",
       "       error_score='raise',\n",
       "       estimator=Pipeline(memory=None,\n",
       "     steps=[('scale', MinMaxScaler(copy=True, feature_range=(0, 1))), ('reduce_dim', SelectKBest(k=10, score_func=<function f_classif at 0x000000000BE18DD8>)), ('classifier', LinearSVC(C=1.0, class_weight=None, dual=True, fit_intercept=True,\n",
       "     intercept_scaling=1, loss='squared_hinge', max_iter=1000,\n",
       "     multi_class='ovr', penalty='l2', random_state=None, tol=0.0001,\n",
       "     verbose=0))]),\n",
       "       fit_params=None, iid=True, n_jobs=8,\n",
       "       param_grid=[{'classifier': [LinearSVC(C=1.0, class_weight=None, dual=True, fit_intercept=True,\n",
       "     intercept_scaling=1, loss='squared_hinge', max_iter=1000,\n",
       "     multi_class='ovr', penalty='l2', random_state=None, tol=0.0001,\n",
       "     verbose=0), KNeighborsClassifier(algorithm='auto', leaf_size=30, met...tors=50, random_state=None)], 'reduce_dim__k': array([ 1,  2,  3,  4,  5,  6,  7,  8,  9, 10, 11])}],\n",
       "       pre_dispatch='2*n_jobs', refit=True, return_train_score='warn',\n",
       "       scoring='f1', verbose=0)"
      ]
     },
     "execution_count": 52,
     "metadata": {},
     "output_type": "execute_result"
    }
   ],
   "source": [
    "grid.fit(df[filtered_features].fillna(0), df['poi'])"
   ]
  },
  {
   "cell_type": "code",
   "execution_count": 53,
   "metadata": {},
   "outputs": [
    {
     "data": {
      "text/plain": [
       "Pipeline(memory=None,\n",
       "     steps=[('scale', MinMaxScaler(copy=True, feature_range=(0, 1))), ('reduce_dim', SelectKBest(k=9, score_func=<function f_classif at 0x000000000BE18DD8>)), ('classifier', AdaBoostClassifier(algorithm='SAMME.R', base_estimator=None,\n",
       "          learning_rate=1.0, n_estimators=50, random_state=None))])"
      ]
     },
     "execution_count": 53,
     "metadata": {},
     "output_type": "execute_result"
    }
   ],
   "source": [
    "grid.best_estimator_"
   ]
  },
  {
   "cell_type": "code",
   "execution_count": 54,
   "metadata": {},
   "outputs": [
    {
     "data": {
      "image/png": "[encoded data removed]",
      "text/plain": [
       "<Figure size 1440x720 with 1 Axes>"
      ]
     },
     "metadata": {},
     "output_type": "display_data"
    }
   ],
   "source": [
    "# Plot results\n",
    "import matplotlib.pyplot as plt\n",
    "%matplotlib inline\n",
    "\n",
    "# Labels for the plot legend\n",
    "classifiers = ['LinearSVC', 'KNeighbors', 'DecisionTree', 'AdaBoost']\n",
    "\n",
    "# Get scores and reshape them for the zip function\n",
    "mean_scores = grid.cv_results_['mean_test_score']\n",
    "mean_scores = mean_scores.reshape(len(classifiers), len(n_features))\n",
    "\n",
    "bar_offsets = np.arange(len(n_features)) * (len(classifiers)+1) + .5\n",
    "\n",
    "plt.figure(figsize=(20,10))\n",
    "\n",
    "for i, (classifier, f1_score) in enumerate(zip(classifiers, mean_scores)):\n",
    "    plt.bar(bar_offsets + i, f1_score, label=classifier)\n",
    "\n",
    "plt.title('')\n",
    "\n",
    "plt.xlabel('n_components')\n",
    "plt.xticks(bar_offsets + len(classifiers)/2, n_features)\n",
    "\n",
    "plt.ylabel('f1_score')\n",
    "\n",
    "plt.legend()\n",
    "plt.show()"
   ]
  },
  {
   "cell_type": "code",
   "execution_count": 55,
   "metadata": {},
   "outputs": [
    {
     "data": {
      "text/html": [
       "<div>\n",
       "<style scoped>\n",
       "    .dataframe tbody tr th:only-of-type {\n",
       "        vertical-align: middle;\n",
       "    }\n",
       "\n",
       "    .dataframe tbody tr th {\n",
       "        vertical-align: top;\n",
       "    }\n",
       "\n",
       "    .dataframe thead th {\n",
       "        text-align: right;\n",
       "    }\n",
       "</style>\n",
       "<table border=\"1\" class=\"dataframe\">\n",
       "  <thead>\n",
       "    <tr style=\"text-align: right;\">\n",
       "      <th></th>\n",
       "      <th>F-value</th>\n",
       "    </tr>\n",
       "  </thead>\n",
       "  <tbody>\n",
       "    <tr>\n",
       "      <th>exercised_stock_options</th>\n",
       "      <td>25.097542</td>\n",
       "    </tr>\n",
       "    <tr>\n",
       "      <th>bonus</th>\n",
       "      <td>21.060002</td>\n",
       "    </tr>\n",
       "    <tr>\n",
       "      <th>salary</th>\n",
       "      <td>18.575703</td>\n",
       "    </tr>\n",
       "    <tr>\n",
       "      <th>from_this_person_to_poi_ratio</th>\n",
       "      <td>16.641707</td>\n",
       "    </tr>\n",
       "    <tr>\n",
       "      <th>bonus_ratio</th>\n",
       "      <td>10.955627</td>\n",
       "    </tr>\n",
       "    <tr>\n",
       "      <th>long_term_incentive</th>\n",
       "      <td>10.072455</td>\n",
       "    </tr>\n",
       "    <tr>\n",
       "      <th>restricted_stock</th>\n",
       "      <td>9.346701</td>\n",
       "    </tr>\n",
       "    <tr>\n",
       "      <th>shared_receipt_with_poi</th>\n",
       "      <td>8.746486</td>\n",
       "    </tr>\n",
       "    <tr>\n",
       "      <th>expenses</th>\n",
       "      <td>6.234201</td>\n",
       "    </tr>\n",
       "  </tbody>\n",
       "</table>\n",
       "</div>"
      ],
      "text/plain": [
       "                                 F-value\n",
       "exercised_stock_options        25.097542\n",
       "bonus                          21.060002\n",
       "salary                         18.575703\n",
       "from_this_person_to_poi_ratio  16.641707\n",
       "bonus_ratio                    10.955627\n",
       "long_term_incentive            10.072455\n",
       "restricted_stock                9.346701\n",
       "shared_receipt_with_poi         8.746486\n",
       "expenses                        6.234201"
      ]
     },
     "execution_count": 55,
     "metadata": {},
     "output_type": "execute_result"
    }
   ],
   "source": [
    "final_features = pd.Series(grid.best_estimator_.named_steps['reduce_dim'].scores_,\n",
    "          index=filtered_features).nlargest(9).index.tolist()\n",
    "pd.Series(grid.best_estimator_.named_steps['reduce_dim'].scores_,\n",
    "          index=filtered_features).nlargest(9).rename('F-value').to_frame()#.to_html()"
   ]
  },
  {
   "cell_type": "code",
   "execution_count": 56,
   "metadata": {},
   "outputs": [
    {
     "data": {
      "text/plain": [
       "array([ 0.06333333,  0.19666667,  0.22333333,  0.23      ,  0.24333333,\n",
       "        0.24333333,  0.25666667,  0.27      ,  0.27      ,  0.27      ,\n",
       "        0.28666667,  0.08571429,  0.308     ,  0.15133333,  0.06666667,\n",
       "        0.04      ,  0.03666667,  0.04333333,  0.05666667,  0.06      ,\n",
       "        0.07333333,  0.08      ,  0.19904762,  0.27809524,  0.24533333,\n",
       "        0.25285714,  0.3257619 ,  0.27104762,  0.28647619,  0.27909524,\n",
       "        0.29266667,  0.261     ,  0.26333333,  0.20933333,  0.29009524,\n",
       "        0.25238095,  0.2847619 ,  0.30571429,  0.26580952,  0.284     ,\n",
       "        0.32866667,  0.336     ,  0.29933333,  0.332     ])"
      ]
     },
     "execution_count": 56,
     "metadata": {},
     "output_type": "execute_result"
    }
   ],
   "source": [
    "grid.cv_results_['mean_test_score']"
   ]
  },
  {
   "cell_type": "code",
   "execution_count": 57,
   "metadata": {},
   "outputs": [
    {
     "data": {
      "text/html": [
       "<div>\n",
       "<style scoped>\n",
       "    .dataframe tbody tr th:only-of-type {\n",
       "        vertical-align: middle;\n",
       "    }\n",
       "\n",
       "    .dataframe tbody tr th {\n",
       "        vertical-align: top;\n",
       "    }\n",
       "\n",
       "    .dataframe thead th {\n",
       "        text-align: right;\n",
       "    }\n",
       "</style>\n",
       "<table border=\"1\" class=\"dataframe\">\n",
       "  <thead>\n",
       "    <tr style=\"text-align: right;\">\n",
       "      <th></th>\n",
       "      <th>f1_score</th>\n",
       "    </tr>\n",
       "  </thead>\n",
       "  <tbody>\n",
       "    <tr>\n",
       "      <th>LinearSVC</th>\n",
       "      <td>0.286667</td>\n",
       "    </tr>\n",
       "    <tr>\n",
       "      <th>KNeighbors</th>\n",
       "      <td>0.308000</td>\n",
       "    </tr>\n",
       "    <tr>\n",
       "      <th>DecisionTree</th>\n",
       "      <td>0.325762</td>\n",
       "    </tr>\n",
       "    <tr>\n",
       "      <th>AdaBoost</th>\n",
       "      <td>0.336000</td>\n",
       "    </tr>\n",
       "  </tbody>\n",
       "</table>\n",
       "</div>"
      ],
      "text/plain": [
       "              f1_score\n",
       "LinearSVC     0.286667\n",
       "KNeighbors    0.308000\n",
       "DecisionTree  0.325762\n",
       "AdaBoost      0.336000"
      ]
     },
     "execution_count": 57,
     "metadata": {},
     "output_type": "execute_result"
    }
   ],
   "source": [
    "pd.DataFrame(grid.cv_results_['mean_test_score'].reshape(4, -1).max(axis=1),\n",
    "             index=classifiers, columns=['f1_score'])#.to_html()"
   ]
  },
  {
   "cell_type": "code",
   "execution_count": 38,
   "metadata": {},
   "outputs": [],
   "source": [
    "tuning_pipe = Pipeline([\n",
    "    ('scale', MinMaxScaler()),\n",
    "    ('classify', AdaBoostClassifier())\n",
    "])\n",
    "\n",
    "estimators = [50, 40, 30, 20, 10]\n",
    "learning_rates = [1., .75, .5, .25]\n",
    "\n",
    "tuning_param_grid = [\n",
    "    {\n",
    "        'classify__n_estimators': estimators,\n",
    "        'classify__learning_rate': learning_rates\n",
    "    }\n",
    "]\n",
    "\n",
    "\n",
    "\n",
    "tuning_grid = GridSearchCV(tuning_pipe, cv=StratifiedShuffleSplit(n_splits=50, random_state=35),\n",
    "                           param_grid=tuning_param_grid, scoring='f1', n_jobs=8)"
   ]
  },
  {
   "cell_type": "code",
   "execution_count": 39,
   "metadata": {},
   "outputs": [
    {
     "data": {
      "text/plain": [
       "GridSearchCV(cv=StratifiedShuffleSplit(n_splits=50, random_state=35, test_size='default',\n",
       "            train_size=None),\n",
       "       error_score='raise',\n",
       "       estimator=Pipeline(memory=None,\n",
       "     steps=[('scale', MinMaxScaler(copy=True, feature_range=(0, 1))), ('classify', AdaBoostClassifier(algorithm='SAMME.R', base_estimator=None,\n",
       "          learning_rate=1.0, n_estimators=50, random_state=None))]),\n",
       "       fit_params=None, iid=True, n_jobs=8,\n",
       "       param_grid=[{'classify__learning_rate': [1.0, 0.75, 0.5, 0.25], 'classify__n_estimators': [50, 40, 30, 20, 10]}],\n",
       "       pre_dispatch='2*n_jobs', refit=True, return_train_score='warn',\n",
       "       scoring='f1', verbose=0)"
      ]
     },
     "execution_count": 39,
     "metadata": {},
     "output_type": "execute_result"
    }
   ],
   "source": [
    "tuning_grid.fit(df[final_features].fillna(0), df['poi'])"
   ]
  },
  {
   "cell_type": "code",
   "execution_count": 46,
   "metadata": {},
   "outputs": [
    {
     "data": {
      "text/plain": [
       "0.97222222222222221"
      ]
     },
     "execution_count": 46,
     "metadata": {},
     "output_type": "execute_result"
    }
   ],
   "source": [
    "tuning_grid.best_estimator_.score(df[final_features].fillna(0), df['poi'])"
   ]
  },
  {
   "cell_type": "code",
   "execution_count": 41,
   "metadata": {},
   "outputs": [
    {
     "data": {
      "text/plain": [
       "array([[[ 0.332     ],\n",
       "        [ 0.34904762],\n",
       "        [ 0.33904762],\n",
       "        [ 0.38333333],\n",
       "        [ 0.43571429]],\n",
       "\n",
       "       [[ 0.34638095],\n",
       "        [ 0.39238095],\n",
       "        [ 0.35304762],\n",
       "        [ 0.388     ],\n",
       "        [ 0.43038095]],\n",
       "\n",
       "       [[ 0.35171429],\n",
       "        [ 0.38438095],\n",
       "        [ 0.38171429],\n",
       "        [ 0.39171429],\n",
       "        [ 0.37438095]],\n",
       "\n",
       "       [[ 0.31304762],\n",
       "        [ 0.34971429],\n",
       "        [ 0.37771429],\n",
       "        [ 0.396     ],\n",
       "        [ 0.388     ]]])"
      ]
     },
     "execution_count": 41,
     "metadata": {},
     "output_type": "execute_result"
    }
   ],
   "source": [
    "tuning_grid.cv_results_['mean_test_score'].reshape(4, 5, -1)"
   ]
  },
  {
   "cell_type": "code",
   "execution_count": 42,
   "metadata": {},
   "outputs": [
    {
     "data": {
      "text/plain": [
       "['exercised_stock_options',\n",
       " 'bonus',\n",
       " 'salary',\n",
       " 'from_this_person_to_poi_ratio',\n",
       " 'bonus_ratio',\n",
       " 'long_term_incentive',\n",
       " 'restricted_stock',\n",
       " 'shared_receipt_with_poi',\n",
       " 'expenses',\n",
       " 'from_poi_to_this_person',\n",
       " 'other']"
      ]
     },
     "execution_count": 42,
     "metadata": {},
     "output_type": "execute_result"
    }
   ],
   "source": [
    "final_features"
   ]
  },
  {
   "cell_type": "code",
   "execution_count": null,
   "metadata": {},
   "outputs": [],
   "source": [
    "# Labels for the plot legend\n",
    "classifiers = ['LinearSVC', 'KNeighbors', 'DecisionTree', 'AdaBoost']\n",
    "\n",
    "# Get scores and reshape them for the zip function\n",
    "mean_scores = grid.cv_results_['mean_test_score']\n",
    "mean_scores = mean_scores.reshape(len(classifiers), len(n_features))\n",
    "\n",
    "bar_offsets = np.arange(len(n_features)) * (len(classifiers)+1) + .5\n",
    "\n",
    "plt.figure(figsize=(20,10))\n",
    "\n",
    "for i, (classifier, f1_score) in enumerate(zip(classifiers, mean_scores)):\n",
    "    plt.bar(bar_offsets + i, f1_score, label=classifier)\n",
    "\n",
    "plt.title('')\n",
    "\n",
    "plt.xlabel('n_components')\n",
    "plt.xticks(bar_offsets + len(classifiers)/2, n_features)\n",
    "\n",
    "plt.ylabel('f1_score')\n",
    "\n",
    "plt.legend()\n",
    "plt.show()"
   ]
  },
  {
   "cell_type": "code",
   "execution_count": null,
   "metadata": {},
   "outputs": [],
   "source": [
    "financial_features = ['salary', 'deferral_payments', 'total_payments', 'loan_advances','bonus',\n",
    "                      'restricted_stock_deferred', 'deferred_income', 'total_stock_value',\n",
    "                      'expenses', 'exercised_stock_options', 'other', 'long_term_incentive',\n",
    "                      'restricted_stock', 'director_fees']\n",
    "\n",
    "numeric_email_features = ['to_messages', 'from_poi_to_this_person', 'from_messages',\n",
    "                           'from_this_person_to_poi', 'shared_receipt_with_poi']\n",
    "text_email_features = ['email_address']\n",
    "\n",
    "# Separate the features into 2 dataframes and convert all of the numeric features\n",
    "financial_data = udacity_data[financial_features].astype(float)\n",
    "email_data = udacity_data[numeric_email_features].astype(float)\n",
    "\n",
    "# Non numeric data\n",
    "email_data[text_email_features] = udacity_data[text_email_features]\n",
    "\n",
    "# And of course the POI label as a boolean value\n",
    "financial_data['poi'] = udacity_data['poi'].astype(bool)\n",
    "email_data['poi'] = udacity_data['poi'].astype(bool)"
   ]
  },
  {
   "cell_type": "markdown",
   "metadata": {},
   "source": [
    "Only 86 entries remain, with 4 of the persons of interest having been removed. None of the fields have null values.\n",
    "\n",
    "The proportion of POIs in the email subset of the data is 25% higher than the full dataset. One thing to watch out for  will be an estimator that gives weight to missing email data as a sign that the person is a POI. This will be a difficult overfit to control for, because the way the dataset is constructed splitting the data into training and test sets will maintain this proportional difference. To counter this I plan to impute missing data for any email fields included in the final algorithm."
   ]
  },
  {
   "cell_type": "markdown",
   "metadata": {},
   "source": []
  },
  {
   "cell_type": "code",
   "execution_count": null,
   "metadata": {},
   "outputs": [],
   "source": [
    "email_outliers = return_outliers(email_data[numeric_email_features])\n",
    "print email_outliers\n",
    "email_data[numeric_email_features].apply(zscore).loc[email_outliers]"
   ]
  },
  {
   "cell_type": "markdown",
   "metadata": {},
   "source": [
    "Only three people were found as outliers, none of which were identified as POIs. I plan to test the affects of removing these individuals during the feature and algorithm selection process to see if it increases accuracy."
   ]
  },
  {
   "cell_type": "markdown",
   "metadata": {},
   "source": [
    "## Feature and Algorithm Selection\n",
    "\n",
    "One theory I have is that incidents like the Enron scandal are created by systemic problems within companies. For example, in the case of Enron employee compensation could have been structured in a way that rewarded bad actors.\n",
    "\n",
    "I created a two new features to search for compensation schemes that might have been used as performance incentives. The idea being that if these incentives are being used to reward the most competitive employees, the 'cheaters' might have risen to the top.\n",
    "1. Bonus / Salary\n",
    "    - How large was the bonus in relation to salary?\n",
    "2. Total Stock Value / Total Payments\n",
    "    - Did any employees receive large amounts of stock in comparison with more standard compensation payments?"
   ]
  },
  {
   "cell_type": "code",
   "execution_count": null,
   "metadata": {},
   "outputs": [],
   "source": [
    "financial_data['bonus_ratio'] = financial_data.bonus / financial_data.salary\n",
    "financial_data['stock_ratio'] = financial_data.total_stock_value / financial_data.total_payments "
   ]
  },
  {
   "cell_type": "code",
   "execution_count": null,
   "metadata": {},
   "outputs": [],
   "source": [
    "combined_data = financial_data.join(email_data.drop('poi', axis=1))\n",
    "\n",
    "# Remove invalid ratios (divide by 0 = infinite)\n",
    "combined_data.replace(np.inf, 0, inplace=True)\n",
    "combined_data.fillna(0, inplace=True)\n",
    "\n",
    "combined_data.drop('email_address', axis=1, inplace=True)\n",
    "combined_data.drop('exercised_stock_options', axis=1, inplace=True)\n",
    "combined_data.drop('restricted_stock', axis=1, inplace=True)\n",
    "combined_data.drop('total_payments', axis=1, inplace=True)\n",
    "#combined_data.drop('bonus', axis=1, inplace=True)\n",
    "\n",
    "features = combined_data.columns.tolist()\n",
    "features.remove('poi')"
   ]
  },
  {
   "cell_type": "code",
   "execution_count": null,
   "metadata": {},
   "outputs": [],
   "source": [
    "features"
   ]
  },
  {
   "cell_type": "markdown",
   "metadata": {},
   "source": [
    "I created a pipeline to apply scaling and dimensionality reduction, and used a grid search to choose how many principal components to keep <cite data-cite=\"6112171/GRUQ2GTK\"></cite>. I included multiple algoritms in the grid search to ensure that the results weren't impacted by the limitations of the estimator. This also gave me the chance to start thinking about what algorithm would be my final choice for finding POIs."
   ]
  },
  {
   "cell_type": "code",
   "execution_count": null,
   "metadata": {},
   "outputs": [],
   "source": [
    "from sklearn.pipeline import Pipeline\n",
    "from sklearn.model_selection import GridSearchCV, StratifiedShuffleSplit\n",
    "from sklearn.preprocessing import StandardScaler, MinMaxScaler, MaxAbsScaler\n",
    "from sklearn.feature_selection import SelectKBest, f_classif\n",
    "from sklearn.svm import LinearSVC\n",
    "from sklearn.neighbors import KNeighborsClassifier\n",
    "from sklearn.tree import DecisionTreeClassifier\n",
    "from sklearn.ensemble import AdaBoostClassifier\n",
    "from sklearn.metrics import f1_score"
   ]
  },
  {
   "cell_type": "code",
   "execution_count": null,
   "metadata": {},
   "outputs": [],
   "source": [
    "# Run the gridsearch\n",
    "grid.fit(combined_data[features], combined_data['poi'])"
   ]
  },
  {
   "cell_type": "code",
   "execution_count": null,
   "metadata": {},
   "outputs": [],
   "source": [
    "pd.Series(grid.best_estimator_.named_steps['reduce_dim'].pvalues_, index=features).nsmallest(6)"
   ]
  },
  {
   "cell_type": "code",
   "execution_count": null,
   "metadata": {},
   "outputs": [],
   "source": [
    "grid.best_estimator_"
   ]
  },
  {
   "cell_type": "markdown",
   "metadata": {},
   "source": [
    "## Algorithm Selection\n",
    "\n",
    "\n"
   ]
  },
  {
   "cell_type": "markdown",
   "metadata": {},
   "source": [
    "## References\n",
    "<div class=\"cite2c-biblio\"></div>"
   ]
  }
 ],
 "metadata": {
  "cite2c": {
   "citations": {
    "6112171/BAJ6H3FC": {
     "URL": "http://usatoday30.usatoday.com/money/industries/energy/2005-12-28-enron-participants_x.htm",
     "accessed": {
      "day": 28,
      "month": 5,
      "year": 2018
     },
     "id": "6112171/BAJ6H3FC",
     "title": "USATODAY.com - A look at those involved in the Enron scandal",
     "type": "webpage"
    },
    "6112171/GLPDFEY4": {
     "URL": "https://www.cs.cmu.edu/~enron/",
     "accessed": {
      "day": 28,
      "month": 5,
      "year": 2018
     },
     "id": "6112171/GLPDFEY4",
     "title": "Enron Email Dataset",
     "type": "webpage"
    },
    "6112171/GRUQ2GTK": {
     "URL": "http://scikit-learn.org/stable/auto_examples/plot_compare_reduction.html",
     "accessed": {
      "day": 29,
      "month": 5,
      "year": 2018
     },
     "id": "6112171/GRUQ2GTK",
     "title": "Selecting dimensionality reduction with Pipeline and GridSearchCV — scikit-learn 0.19.1 documentation",
     "type": "webpage"
    },
    "6112171/SUB22V52": {
     "URL": "http://scikit-learn.org/stable/modules/generated/sklearn.decomposition.PCA.html",
     "accessed": {
      "day": 29,
      "month": 5,
      "year": 2018
     },
     "id": "6112171/SUB22V52",
     "title": "sklearn.decomposition.PCA — scikit-learn 0.19.1 documentation",
     "type": "webpage"
    },
    "6112171/XBR54C3J": {
     "URL": "https://en.wikipedia.org/w/index.php?title=Vincent_Kaminski&oldid=786433458",
     "abstract": "Vincent Julian Kaminski was born in Poland and worked as the Managing Director for Research at the failed energy trading corporation Enron until 2002. In this capacity he led a team of approximately fifty analysts who developed quantitative models to support energy trading. In the months preceding Enron’s bankruptcy Kaminski repeatedly raised strong objections to the financial practices of Enron’s Chief Financial Officer, Andrew Fastow, designed to fraudulently conceal the company’s burgeoning debt.\nThe primary practice involved hiding Enron’s debt in partnership companies managed by Fastow and financed by outside creditors. The debt was then secured against stock in the Enron Corporation itself, which was strongly valued at that time. To induce creditors to assume the risk of financing this debt certain \"trigger events\" were built into the contracts which would require immediate repayment of the full loan amount, such as the decline of the stock value used as collateral below a prearranged level. During the course of a company-wide comprehensive risk assessment Kaminski and his team of analysts pointed out that there existed many such arrangements, and if one were triggered the rest would be activated like dominoes as the stock price fell in response to the bad news, effectively ending the financial viability of the company. Kaminski’s strident opposition to these practices was one of the last chances to avert the implosion which soon followed.\nDr. Kaminski holds an M.S. degree in International Economics and a Ph.D. degree in Mathematical Economics from the Main School of Planning and Statistics in Warsaw (which has since been renamed Warsaw School of Economics), and an MBA from Fordham University in New York City. He teaches at the business school of Rice University in Houston, Texas, and is the author of several books on risk management and energy trading. Books by Dr. Kaminski:\nEnergy Modelling: Advances in the Management of Uncertainty, published by Risk Books in 2005, ISBN 1-904339-42-5\nManaging Energy Price Risk: The New Challenges and Solutions, published by Risk Books in 2004, ISBN 1-904339-19-0\nEnergy Markets http://riskbooks.com/energy-markets, published by Risk Books on 18 January 2013, ISBN 9781906348793",
     "accessed": {
      "day": 29,
      "month": 5,
      "year": 2018
     },
     "container-title": "Wikipedia",
     "id": "6112171/XBR54C3J",
     "issued": {
      "day": 19,
      "month": 6,
      "year": 2017
     },
     "language": "en",
     "note": "Page Version ID: 786433458",
     "title": "Vincent Kaminski",
     "type": "entry-encyclopedia"
    }
   }
  },
  "kernelspec": {
   "display_name": "Python 2",
   "language": "python",
   "name": "python2"
  },
  "language_info": {
   "codemirror_mode": {
    "name": "ipython",
    "version": 2
   },
   "file_extension": ".py",
   "mimetype": "text/x-python",
   "name": "python",
   "nbconvert_exporter": "python",
   "pygments_lexer": "ipython2",
   "version": "2.7.15"
  }
 },
 "nbformat": 4,
 "nbformat_minor": 2
}
