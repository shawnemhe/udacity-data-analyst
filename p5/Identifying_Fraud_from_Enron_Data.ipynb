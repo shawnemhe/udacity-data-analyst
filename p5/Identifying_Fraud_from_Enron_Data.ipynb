{
 "cells": [
  {
   "cell_type": "markdown",
   "metadata": {},
   "source": [
    "# Identifying Fraud from Enron Data\n",
    "\n",
    "This project will use machine learning to attempt to identify persons of interest from the Enron financial scandel. Persons of Interest (POIs) were defined at the onset by Udacity using resource created by USA Today <cite data-cite=\"6112171/BAJ6H3FC\"></cite>. \n",
    "\n",
    "Two data resources were identified by Udacity for identifying POIs. The first is the Enron Email Datset maintained by Carnegie Mellon University <cite data-cite=\"6112171/GLPDFEY4\"></cite>. The email dataset contains a corpus of close to 500,000 email messages from Enron's servers. The second is a dataset created by Udacity with a collection of useful information for the task. It contains both financial features as well as aggregate information about the email dataset. \n",
    "\n",
    "Machine learning excels at this type of task because it can be used to process large amounts of information in a way that would be time consuming if done by hand. Machine learning algorithms use statistical methods to *learn* from data and can then make inferences based on the relationships they have found. Although developing the algorithms takes considerable amount of care and effort in itself, when completed they can be used to process the entire email dataset within minutes.\n",
    "\n",
    "## Data Exploration\n",
    "The data was loaded into a pandas dataframes to simplify exploration and visualization."
   ]
  },
  {
   "cell_type": "code",
   "execution_count": 1,
   "metadata": {},
   "outputs": [
    {
     "data": {
      "text/plain": [
       "(146, 21)"
      ]
     },
     "execution_count": 1,
     "metadata": {},
     "output_type": "execute_result"
    }
   ],
   "source": [
    "import pickle\n",
    "import pandas as pd\n",
    "import numpy as np\n",
    "import matplotlib.pyplot as plt\n",
    "\n",
    "%matplotlib inline\n",
    "\n",
    "# Open the dataset for exploration\n",
    "with open('final_project_dataset.pkl', 'r') as data_file:\n",
    "    udacity_data_dict = pickle.load(data_file)\n",
    "\n",
    "# Load the into a DataFrame, transposed so that columns are the features\n",
    "udacity_data = pd.DataFrame(udacity_data_dict).T\n",
    "\n",
    "udacity_data.shape"
   ]
  },
  {
   "cell_type": "markdown",
   "metadata": {},
   "source": [
    "There are 146 entries in the dataset and 21 features."
   ]
  },
  {
   "cell_type": "code",
   "execution_count": 2,
   "metadata": {},
   "outputs": [
    {
     "data": {
      "text/plain": [
       "False    128\n",
       "True      18\n",
       "Name: poi, dtype: int64"
      ]
     },
     "execution_count": 2,
     "metadata": {},
     "output_type": "execute_result"
    }
   ],
   "source": [
    "udacity_data['poi'].value_counts()"
   ]
  },
  {
   "cell_type": "markdown",
   "metadata": {},
   "source": [
    "18 (12%) of the entries are identified as persons of interest.\n",
    "\n",
    "I decided to separate the dataset into two data frames for exploration because of its split nature. The financial information came from a document attributed to Findlaw.com. Wheras the email information was compiled by aggregating information form the Enron Email corpus. For this reason it made sense to divide the data when looking for trends and similarities between the features."
   ]
  },
  {
   "cell_type": "code",
   "execution_count": 3,
   "metadata": {},
   "outputs": [],
   "source": [
    "financial_features = ['salary', 'deferral_payments', 'total_payments', 'loan_advances','bonus',\n",
    "                      'restricted_stock_deferred', 'deferred_income', 'total_stock_value',\n",
    "                      'expenses', 'exercised_stock_options', 'other', 'long_term_incentive',\n",
    "                      'restricted_stock', 'director_fees']\n",
    "\n",
    "numeric_email_features = ['to_messages', 'from_poi_to_this_person', 'from_messages',\n",
    "                           'from_this_person_to_poi', 'shared_receipt_with_poi']\n",
    "text_email_features = ['email_address']\n",
    "\n",
    "# Separate the features into 2 dataframes and convert all of the numeric features\n",
    "financial_data = udacity_data[financial_features].astype(float)\n",
    "email_data = udacity_data[numeric_email_features].astype(float)\n",
    "\n",
    "# Non numeric data\n",
    "email_data[text_email_features] = udacity_data[text_email_features]\n",
    "\n",
    "# And of course the POI label as a boolean value\n",
    "financial_data['poi'] = udacity_data['poi'].astype(bool)\n",
    "email_data['poi'] = udacity_data['poi'].astype(bool)"
   ]
  },
  {
   "cell_type": "markdown",
   "metadata": {},
   "source": [
    "Records should be dropped for any persons for which there is no relevant information. Because the data is split this step can be done separately for each dataframe."
   ]
  },
  {
   "cell_type": "code",
   "execution_count": 4,
   "metadata": {},
   "outputs": [],
   "source": [
    "def drop_all_null(df, important_features):\n",
    "    \"\"\"Drop rows with all null features\"\"\"\n",
    "    \n",
    "    null_filter = df[important_features].isnull().all(axis=1)\n",
    "    null_index = df.index[null_filter]\n",
    "    return df.drop(null_index)\n",
    "\n",
    "financial_data = drop_all_null(financial_data, financial_features)\n",
    "email_data = drop_all_null(email_data, numeric_email_features)"
   ]
  },
  {
   "cell_type": "code",
   "execution_count": 5,
   "metadata": {
    "scrolled": false
   },
   "outputs": [
    {
     "name": "stdout",
     "output_type": "stream",
     "text": [
      "<class 'pandas.core.frame.DataFrame'>\n",
      "Index: 145 entries, ALLEN PHILLIP K to YEAP SOON\n",
      "Data columns (total 15 columns):\n",
      "salary                       95 non-null float64\n",
      "deferral_payments            39 non-null float64\n",
      "total_payments               125 non-null float64\n",
      "loan_advances                4 non-null float64\n",
      "bonus                        82 non-null float64\n",
      "restricted_stock_deferred    18 non-null float64\n",
      "deferred_income              49 non-null float64\n",
      "total_stock_value            126 non-null float64\n",
      "expenses                     95 non-null float64\n",
      "exercised_stock_options      102 non-null float64\n",
      "other                        93 non-null float64\n",
      "long_term_incentive          66 non-null float64\n",
      "restricted_stock             110 non-null float64\n",
      "director_fees                17 non-null float64\n",
      "poi                          145 non-null bool\n",
      "dtypes: bool(1), float64(14)\n",
      "memory usage: 17.1+ KB\n",
      "18 persons of interest.\n"
     ]
    }
   ],
   "source": [
    "financial_data.info()\n",
    "print '%s persons of interest.' % financial_data['poi'].sum()"
   ]
  },
  {
   "cell_type": "markdown",
   "metadata": {},
   "source": [
    "145 entries remain in the financial dataset, of which all 18 persons of interest are still included. All of the fields contain null values."
   ]
  },
  {
   "cell_type": "code",
   "execution_count": 6,
   "metadata": {},
   "outputs": [
    {
     "data": {
      "text/plain": [
       "salary                         0\n",
       "deferral_payments              0\n",
       "total_payments                 0\n",
       "loan_advances                  0\n",
       "bonus                          0\n",
       "restricted_stock_deferred      0\n",
       "deferred_income                0\n",
       "total_stock_value              0\n",
       "expenses                       0\n",
       "exercised_stock_options        0\n",
       "other                          0\n",
       "long_term_incentive            0\n",
       "restricted_stock               0\n",
       "director_fees                  0\n",
       "poi                          127\n",
       "dtype: int64"
      ]
     },
     "execution_count": 6,
     "metadata": {},
     "output_type": "execute_result"
    }
   ],
   "source": [
    "(financial_data == 0).sum()"
   ]
  },
  {
   "cell_type": "markdown",
   "metadata": {},
   "source": [
    "However, no fields contain zeros. The original source also states that it includes non-employee entries. Because of the variety of payment types I assumed that missing values were used in lieu of zeros."
   ]
  },
  {
   "cell_type": "code",
   "execution_count": 7,
   "metadata": {},
   "outputs": [],
   "source": [
    "financial_data.fillna(0, inplace=True)"
   ]
  },
  {
   "cell_type": "code",
   "execution_count": 8,
   "metadata": {},
   "outputs": [
    {
     "name": "stdout",
     "output_type": "stream",
     "text": [
      "<class 'pandas.core.frame.DataFrame'>\n",
      "Index: 86 entries, ALLEN PHILLIP K to WHALLEY LAWRENCE G\n",
      "Data columns (total 7 columns):\n",
      "to_messages                86 non-null float64\n",
      "from_poi_to_this_person    86 non-null float64\n",
      "from_messages              86 non-null float64\n",
      "from_this_person_to_poi    86 non-null float64\n",
      "shared_receipt_with_poi    86 non-null float64\n",
      "email_address              86 non-null object\n",
      "poi                        86 non-null bool\n",
      "dtypes: bool(1), float64(5), object(1)\n",
      "memory usage: 4.8+ KB\n",
      "14 persons of interest.\n"
     ]
    }
   ],
   "source": [
    "email_data.info()\n",
    "print '%s persons of interest.' % email_data['poi'].sum()"
   ]
  },
  {
   "cell_type": "markdown",
   "metadata": {},
   "source": [
    "Only 86 entries remain, with 4 of the persons of interest having been removed. None of the fields have null values.\n",
    "\n",
    "The proportion of POIs in the email subset of the data is 25% higher than the full dataset. One thing to watch out for  will be an estimator that gives weight to missing email data as a sign that the person is a POI. This will be a difficult overfit to control for, because the way the dataset is constructed splitting the data into training and test sets will maintain this proportional difference. To counter this I plan to impute missing data for any email fields included in the final algorithm."
   ]
  },
  {
   "cell_type": "markdown",
   "metadata": {},
   "source": [
    "## Outlier Investigation\n",
    "\n",
    "To search for outliers I used the zscore function from scipy. The function normalizes values as a measurement of standard devations from the mean. This makes it easier to analyze values in context to how far they stand out from the rest of the data.  I created a function to screen for any entries with a zscore above 3 for any feature."
   ]
  },
  {
   "cell_type": "code",
   "execution_count": 9,
   "metadata": {},
   "outputs": [
    {
     "name": "stdout",
     "output_type": "stream",
     "text": [
      "Index([u'BHATNAGAR SANJAY', u'LAY KENNETH L', u'TOTAL'], dtype='object')\n"
     ]
    }
   ],
   "source": [
    "from scipy.stats import zscore\n",
    "\n",
    "def return_outliers(df):\n",
    "    \"\"\"Returns a list of entries with feature zscores over 3\"\"\"\n",
    "    # True if absolute value of zcore greater than 3 for any feature across the row(1) axis\n",
    "    zscore_filter = df.apply(zscore).abs().gt(3).any(axis=1)\n",
    "    return df.index[zscore_filter]\n",
    "\n",
    "fin_outliers = return_outliers(financial_data)\n",
    "\n",
    "print fin_outliers"
   ]
  },
  {
   "cell_type": "markdown",
   "metadata": {},
   "source": [
    "What immediately sticks out is \"TOTAL\", which should be removed from the data. This entry prompted me to seach through the Findlaw.com document and financial dataframe index for other unusual items. I also found a travel agency that needed to be removed."
   ]
  },
  {
   "cell_type": "code",
   "execution_count": 10,
   "metadata": {},
   "outputs": [],
   "source": [
    "financial_data.drop(['TOTAL', 'THE TRAVEL AGENCY IN THE PARK'], inplace=True)"
   ]
  },
  {
   "cell_type": "code",
   "execution_count": 11,
   "metadata": {},
   "outputs": [
    {
     "name": "stdout",
     "output_type": "stream",
     "text": [
      "Index([u'ALLEN PHILLIP K', u'BELDEN TIMOTHY N', u'BHATNAGAR SANJAY',\n",
      "       u'BLAKE JR. NORMAN P', u'FREVERT MARK A', u'GRAMM WENDY L',\n",
      "       u'HANNON KEVIN P', u'HIRKO JOSEPH', u'HORTON STANLEY C',\n",
      "       u'HUMPHREY GENE E', u'JAEDICKE ROBERT', u'LAVORATO JOHN J',\n",
      "       u'LAY KENNETH L', u'LEMAISTRE CHARLES', u'MARTIN AMANDA K',\n",
      "       u'MCCLELLAN GEORGE', u'PAI LOU L', u'RICE KENNETH D', u'SAVAGE FRANK',\n",
      "       u'SHANKMAN JEFFREY A', u'SKILLING JEFFREY K', u'URQUHART JOHN A',\n",
      "       u'WAKEHAM JOHN', u'WHITE JR THOMAS E', u'WINOKUR JR. HERBERT S'],\n",
      "      dtype='object')\n"
     ]
    }
   ],
   "source": [
    "# Search for outliers again, in case zscore have been changed\n",
    "fin_outliers = return_outliers(financial_data)\n",
    "print fin_outliers"
   ]
  },
  {
   "cell_type": "markdown",
   "metadata": {},
   "source": [
    "With the TOTAL entry removed there are now many more outliers. Plotting the data will help to get a better feel of what's going on."
   ]
  },
  {
   "cell_type": "code",
   "execution_count": 12,
   "metadata": {},
   "outputs": [
    {
     "data": {
      "image/png": "[encoded data removed]",
      "text/plain": [
       "<Figure size 1080x1080 with 1 Axes>"
      ]
     },
     "metadata": {},
     "output_type": "display_data"
    }
   ],
   "source": [
    "# Create boxplots , using zscore for boxplots to make comparison easier\n",
    "financial_data[financial_features].apply(zscore).plot.box(\n",
    "    vert=False, layout=(7,2), figsize=(15,15))\n",
    "plt.show()"
   ]
  },
  {
   "cell_type": "markdown",
   "metadata": {},
   "source": [
    "The boxplots show tight interquartile distributions with large amounts of outliers. This makes sense, considering the presense of executives and directors in the data. Their compensation was far beyond the rest of the employess. They also receive unique types of compensation such as restricted stock and director fees which other employees are not paid. These outliers do not represent errors and should be kept."
   ]
  },
  {
   "cell_type": "code",
   "execution_count": 13,
   "metadata": {},
   "outputs": [
    {
     "name": "stdout",
     "output_type": "stream",
     "text": [
      "Index([u'BECK SALLY W', u'BELDEN TIMOTHY N', u'DELAINEY DAVID W',\n",
      "       u'KAMINSKI WINCENTY J', u'KEAN STEVEN J', u'LAVORATO JOHN J',\n",
      "       u'SHAPIRO RICHARD S'],\n",
      "      dtype='object')\n"
     ]
    },
    {
     "data": {
      "text/html": [
       "<div>\n",
       "<style scoped>\n",
       "    .dataframe tbody tr th:only-of-type {\n",
       "        vertical-align: middle;\n",
       "    }\n",
       "\n",
       "    .dataframe tbody tr th {\n",
       "        vertical-align: top;\n",
       "    }\n",
       "\n",
       "    .dataframe thead th {\n",
       "        text-align: right;\n",
       "    }\n",
       "</style>\n",
       "<table border=\"1\" class=\"dataframe\">\n",
       "  <thead>\n",
       "    <tr style=\"text-align: right;\">\n",
       "      <th></th>\n",
       "      <th>to_messages</th>\n",
       "      <th>from_poi_to_this_person</th>\n",
       "      <th>from_messages</th>\n",
       "      <th>from_this_person_to_poi</th>\n",
       "      <th>shared_receipt_with_poi</th>\n",
       "    </tr>\n",
       "  </thead>\n",
       "  <tbody>\n",
       "    <tr>\n",
       "      <th>BECK SALLY W</th>\n",
       "      <td>2.041227</td>\n",
       "      <td>0.914800</td>\n",
       "      <td>2.040218</td>\n",
       "      <td>3.465362</td>\n",
       "      <td>1.248486</td>\n",
       "    </tr>\n",
       "    <tr>\n",
       "      <th>BELDEN TIMOTHY N</th>\n",
       "      <td>2.304504</td>\n",
       "      <td>1.886212</td>\n",
       "      <td>-0.068180</td>\n",
       "      <td>0.671100</td>\n",
       "      <td>3.708691</td>\n",
       "    </tr>\n",
       "    <tr>\n",
       "      <th>DELAINEY DAVID W</th>\n",
       "      <td>0.396917</td>\n",
       "      <td>0.012775</td>\n",
       "      <td>1.344157</td>\n",
       "      <td>5.706803</td>\n",
       "      <td>0.785810</td>\n",
       "    </tr>\n",
       "    <tr>\n",
       "      <th>KAMINSKI WINCENTY J</th>\n",
       "      <td>0.986563</td>\n",
       "      <td>-0.276336</td>\n",
       "      <td>7.517465</td>\n",
       "      <td>1.304332</td>\n",
       "      <td>-0.506609</td>\n",
       "    </tr>\n",
       "    <tr>\n",
       "      <th>KEAN STEVEN J</th>\n",
       "      <td>4.159514</td>\n",
       "      <td>0.868542</td>\n",
       "      <td>3.360221</td>\n",
       "      <td>3.475413</td>\n",
       "      <td>2.102131</td>\n",
       "    </tr>\n",
       "    <tr>\n",
       "      <th>LAVORATO JOHN J</th>\n",
       "      <td>2.019417</td>\n",
       "      <td>5.355540</td>\n",
       "      <td>1.079719</td>\n",
       "      <td>3.716645</td>\n",
       "      <td>2.377858</td>\n",
       "    </tr>\n",
       "    <tr>\n",
       "      <th>SHAPIRO RICHARD S</th>\n",
       "      <td>5.092276</td>\n",
       "      <td>0.105290</td>\n",
       "      <td>0.331208</td>\n",
       "      <td>0.238894</td>\n",
       "      <td>2.860168</td>\n",
       "    </tr>\n",
       "  </tbody>\n",
       "</table>\n",
       "</div>"
      ],
      "text/plain": [
       "                     to_messages  from_poi_to_this_person  from_messages  \\\n",
       "BECK SALLY W            2.041227                 0.914800       2.040218   \n",
       "BELDEN TIMOTHY N        2.304504                 1.886212      -0.068180   \n",
       "DELAINEY DAVID W        0.396917                 0.012775       1.344157   \n",
       "KAMINSKI WINCENTY J     0.986563                -0.276336       7.517465   \n",
       "KEAN STEVEN J           4.159514                 0.868542       3.360221   \n",
       "LAVORATO JOHN J         2.019417                 5.355540       1.079719   \n",
       "SHAPIRO RICHARD S       5.092276                 0.105290       0.331208   \n",
       "\n",
       "                     from_this_person_to_poi  shared_receipt_with_poi  \n",
       "BECK SALLY W                        3.465362                 1.248486  \n",
       "BELDEN TIMOTHY N                    0.671100                 3.708691  \n",
       "DELAINEY DAVID W                    5.706803                 0.785810  \n",
       "KAMINSKI WINCENTY J                 1.304332                -0.506609  \n",
       "KEAN STEVEN J                       3.475413                 2.102131  \n",
       "LAVORATO JOHN J                     3.716645                 2.377858  \n",
       "SHAPIRO RICHARD S                   0.238894                 2.860168  "
      ]
     },
     "execution_count": 13,
     "metadata": {},
     "output_type": "execute_result"
    }
   ],
   "source": [
    "email_outliers = return_outliers(email_data[numeric_email_features])\n",
    "print email_outliers\n",
    "email_data[numeric_email_features].apply(zscore).loc[email_outliers]"
   ]
  },
  {
   "cell_type": "markdown",
   "metadata": {},
   "source": [
    "This is a smaller list than for the financial data, and some outliers are expected. Individuals who regularly contacted POIs are going to stand out from those who didn't because the POIs only make up a small portion of the email corpus.\n",
    "\n",
    "However, the persons who were identified as outliers for non-POI related fields represent a risk in data leakage. I did some searching and confirmed that these individuals held high level positions at Enron. Kaminski was also reported to have raised objections to Enron's practices prior to its bankruptcy <cite data-cite=\"6112171/XBR54C3J\"></cite>. These individuals could have a higher presense in the email corpus because they were the focus of investigations. This creates a problem where the focus of the investigation could leak in as a factor in identifying POIs.\n",
    "\n",
    "To counter this I decided to create percentage based representations of the POI features. In this way a classifier cannot know how many total emails are present for a given person in the database."
   ]
  },
  {
   "cell_type": "code",
   "execution_count": 14,
   "metadata": {},
   "outputs": [],
   "source": [
    "# Create new features\n",
    "email_data['from_poi_to_this_person_percent'] = email_data.from_poi_to_this_person / email_data.to_messages\n",
    "email_data['from_this_person_to_poi_percent'] = email_data.from_this_person_to_poi / email_data.from_messages\n",
    "email_data['shared_receipt_with_poi_percent'] = email_data.shared_receipt_with_poi / email_data.to_messages"
   ]
  },
  {
   "cell_type": "code",
   "execution_count": 15,
   "metadata": {},
   "outputs": [
    {
     "name": "stdout",
     "output_type": "stream",
     "text": [
      "Index([u'DEFFNER JOSEPH M', u'DONAHUE JR JEFFREY M', u'HUMPHREY GENE E'], dtype='object')\n"
     ]
    },
    {
     "data": {
      "image/png": "[encoded data removed]",
      "text/plain": [
       "<Figure size 432x288 with 1 Axes>"
      ]
     },
     "metadata": {},
     "output_type": "display_data"
    }
   ],
   "source": [
    "# Visualize the affect\n",
    "new_email_features = ['from_poi_to_this_person_percent',\n",
    "                      'from_this_person_to_poi_percent',\n",
    "                      'shared_receipt_with_poi_percent']\n",
    "email_outliers = return_outliers(email_data[new_email_features])\n",
    "print(email_outliers)\n",
    "email_data[new_email_features].apply(zscore).plot.box(vert=False)\n",
    "plt.show()"
   ]
  },
  {
   "cell_type": "markdown",
   "metadata": {},
   "source": [
    "Only three people were found as outliers, none of which were identified as POIs. I plan to test the affects of removing these individuals during the feature and algorithm selection process to see if it increases accuracy."
   ]
  },
  {
   "cell_type": "markdown",
   "metadata": {},
   "source": [
    "## Feature Selection\n",
    "\n",
    "One theory I have is that incidents like the Enron scandal are created by systemic problems within companies. For example, in the case of Enron employee compensation might have been structured in a way that rewarded bad actors. One way to detect structure like this within the data is to use Principal Components Analysis (PCA).\n",
    "\n",
    "PCA decomposes data into lower dimensions while attempting to retain as much variance as possible <cite data-cite=\"6112171/SUB22V52\"></cite>. If there are trends in the way compensation is structure, PCA might be able to detect them and explain them with fewer features.\n",
    "\n",
    "Prior to running PCA I removed the total_payments and total_stock_value features. I did this because I was more interested in the variance of the features that composed these values than the total values themselves. I also applied the standard scaler to prevent large compensation items like exectuive stock options from hiding the variance of other forms of compensation.\n",
    "\n",
    "I created a pipeline to apply scaling and dimensionality reduction, and used a grid search to choose how many principal components to keep <cite data-cite=\"6112171/GRUQ2GTK\"></cite>. I included multiple algoritms in the grid search to ensure that the results weren't impacted by the limitations of the estimator. This also gave me the chance to start thinking about what algorithm would be my final choice for finding POIs."
   ]
  },
  {
   "cell_type": "code",
   "execution_count": 16,
   "metadata": {},
   "outputs": [],
   "source": [
    "from sklearn.pipeline import Pipeline\n",
    "from sklearn.model_selection import train_test_split, GridSearchCV\n",
    "from sklearn.preprocessing import StandardScaler\n",
    "from sklearn.decomposition import PCA\n",
    "from sklearn.svm import LinearSVC\n",
    "from sklearn.neighbors import KNeighborsClassifier\n",
    "from sklearn.ensemble import AdaBoostClassifier\n",
    "from sklearn.metrics import f1_score\n",
    "\n",
    "def plot_pca(fitPCA, labels, n_components=2):\n",
    "    \"\"\"Plot the explianed variance ratio and first n compoenent weights\"\"\"\n",
    "    pd.Series(fitPCA.explained_variance_ratio_).cumsum().plot(title='Explained Variance Ratio')\n",
    "    plt.show()\n",
    "    for i in range(n_components):\n",
    "        pd.Series(fitPCA.components_[i], index=labels).plot.bar(title='Component %s feature weight' % i)\n",
    "        plt.show()"
   ]
  },
  {
   "cell_type": "code",
   "execution_count": 17,
   "metadata": {},
   "outputs": [],
   "source": [
    "nontotal_features = financial_features[:]\n",
    "nontotal_features.remove('total_payments')\n",
    "nontotal_features.remove('total_stock_value')"
   ]
  },
  {
   "cell_type": "code",
   "execution_count": 18,
   "metadata": {},
   "outputs": [],
   "source": [
    "# Split the finacnial data into test and train datasets\n",
    "x_train, x_test, y_train, y_test = train_test_split(financial_data[nontotal_features], financial_data['poi'],\n",
    "                                    test_size=.3, random_state=42)"
   ]
  },
  {
   "cell_type": "code",
   "execution_count": 19,
   "metadata": {},
   "outputs": [],
   "source": [
    "# Build the pipeline and grid search.\n",
    "\n",
    "pipe = Pipeline([\n",
    "    ('scale', StandardScaler()),\n",
    "    ('pca', PCA()),\n",
    "    ('classify', LinearSVC())\n",
    "])\n",
    "\n",
    "n_components = np.arange(len(nontotal_features)) + 1\n",
    "\n",
    "param_grid = [\n",
    "    {\n",
    "        'pca__n_components': n_components,\n",
    "        'classify': [LinearSVC(), KNeighborsClassifier(), AdaBoostClassifier()]\n",
    "    }\n",
    "]\n",
    "\n",
    "grid = GridSearchCV(pipe, param_grid=param_grid, scoring='f1')"
   ]
  },
  {
   "cell_type": "code",
   "execution_count": 20,
   "metadata": {},
   "outputs": [
    {
     "name": "stderr",
     "output_type": "stream",
     "text": [
      "C:\\Users\\s_emh\\Anaconda3\\envs\\udacity\\lib\\site-packages\\sklearn\\metrics\\classification.py:1135: UndefinedMetricWarning: F-score is ill-defined and being set to 0.0 due to no predicted samples.\n",
      "  'precision', 'predicted', average, warn_for)\n"
     ]
    },
    {
     "data": {
      "text/plain": [
       "GridSearchCV(cv=None, error_score='raise',\n",
       "       estimator=Pipeline(memory=None,\n",
       "     steps=[('scale', StandardScaler(copy=True, with_mean=True, with_std=True)), ('pca', PCA(copy=True, iterated_power='auto', n_components=None, random_state=None,\n",
       "  svd_solver='auto', tol=0.0, whiten=False)), ('classify', LinearSVC(C=1.0, class_weight=None, dual=True, fit_intercept=True,\n",
       "     intercept_scaling=1, loss='squared_hinge', max_iter=1000,\n",
       "     multi_class='ovr', penalty='l2', random_state=None, tol=0.0001,\n",
       "     verbose=0))]),\n",
       "       fit_params=None, iid=True, n_jobs=1,\n",
       "       param_grid=[{'pca__n_components': array([ 1,  2,  3,  4,  5,  6,  7,  8,  9, 10, 11, 12]), 'classify': [LinearSVC(C=1.0, class_weight=None, dual=True, fit_intercept=True,\n",
       "     intercept_scaling=1, loss='squared_hinge', max_iter=1000,\n",
       "     multi_class='ovr', penalty='l2', random_state=None, tol=0.000...='SAMME.R', base_estimator=None,\n",
       "          learning_rate=1.0, n_estimators=50, random_state=None)]}],\n",
       "       pre_dispatch='2*n_jobs', refit=True, return_train_score='warn',\n",
       "       scoring='f1', verbose=0)"
      ]
     },
     "execution_count": 20,
     "metadata": {},
     "output_type": "execute_result"
    }
   ],
   "source": [
    "# Run the gridsearch\n",
    "grid.fit(x_train, y_train)"
   ]
  },
  {
   "cell_type": "code",
   "execution_count": 21,
   "metadata": {},
   "outputs": [
    {
     "data": {
      "image/png": "[encoded data removed]",
      "text/plain": [
       "<Figure size 1440x720 with 1 Axes>"
      ]
     },
     "metadata": {},
     "output_type": "display_data"
    }
   ],
   "source": [
    "# Plot results\n",
    "\n",
    "# Labels for the plot legend\n",
    "classifiers = ['LinearSVC', 'KNeighbors', 'AdaBoost']\n",
    "\n",
    "# Get scores and reshape them for the zip function\n",
    "mean_scores = grid.cv_results_['mean_test_score']\n",
    "mean_scores = mean_scores.reshape(3, -1)\n",
    "\n",
    "bar_offsets = np.arange(len(n_components)) * 4 + .5\n",
    "\n",
    "plt.figure(figsize=(20,10))\n",
    "\n",
    "for i, (classifier, f1_score) in enumerate(zip(classifiers, mean_scores)):\n",
    "    plt.bar(bar_offsets + i, f1_score, label=classifier)\n",
    "\n",
    "plt.title('')\n",
    "\n",
    "plt.xlabel('n_components')\n",
    "plt.xticks(bar_offsets + 3/2, n_components)\n",
    "\n",
    "plt.ylabel('f1_score')\n",
    "\n",
    "plt.legend()\n",
    "plt.show()"
   ]
  },
  {
   "cell_type": "markdown",
   "metadata": {},
   "source": [
    "Th"
   ]
  },
  {
   "cell_type": "code",
   "execution_count": 22,
   "metadata": {},
   "outputs": [
    {
     "ename": "ValueError",
     "evalue": "bad input shape ()",
     "output_type": "error",
     "traceback": [
      "\u001b[1;31m---------------------------------------------------------------------------\u001b[0m",
      "\u001b[1;31mValueError\u001b[0m                                Traceback (most recent call last)",
      "\u001b[1;32m<ipython-input-22-9f115c66aa97>\u001b[0m in \u001b[0;36m<module>\u001b[1;34m()\u001b[0m\n\u001b[1;32m----> 1\u001b[1;33m \u001b[0mpipe\u001b[0m\u001b[1;33m.\u001b[0m\u001b[0mfit\u001b[0m\u001b[1;33m(\u001b[0m\u001b[0mx_train\u001b[0m\u001b[1;33m)\u001b[0m\u001b[1;33m\u001b[0m\u001b[0m\n\u001b[0m\u001b[0;32m      2\u001b[0m \u001b[0mplot_pca\u001b[0m\u001b[1;33m(\u001b[0m\u001b[0mpipe\u001b[0m\u001b[1;33m.\u001b[0m\u001b[0mnamed_steps\u001b[0m\u001b[1;33m[\u001b[0m\u001b[1;34m'reducedim'\u001b[0m\u001b[1;33m]\u001b[0m\u001b[1;33m,\u001b[0m \u001b[0mnontotal_features\u001b[0m\u001b[1;33m)\u001b[0m\u001b[1;33m\u001b[0m\u001b[0m\n",
      "\u001b[1;32mC:\\Users\\s_emh\\Anaconda3\\envs\\udacity\\lib\\site-packages\\sklearn\\pipeline.pyc\u001b[0m in \u001b[0;36mfit\u001b[1;34m(self, X, y, **fit_params)\u001b[0m\n\u001b[0;32m    248\u001b[0m         \u001b[0mXt\u001b[0m\u001b[1;33m,\u001b[0m \u001b[0mfit_params\u001b[0m \u001b[1;33m=\u001b[0m \u001b[0mself\u001b[0m\u001b[1;33m.\u001b[0m\u001b[0m_fit\u001b[0m\u001b[1;33m(\u001b[0m\u001b[0mX\u001b[0m\u001b[1;33m,\u001b[0m \u001b[0my\u001b[0m\u001b[1;33m,\u001b[0m \u001b[1;33m**\u001b[0m\u001b[0mfit_params\u001b[0m\u001b[1;33m)\u001b[0m\u001b[1;33m\u001b[0m\u001b[0m\n\u001b[0;32m    249\u001b[0m         \u001b[1;32mif\u001b[0m \u001b[0mself\u001b[0m\u001b[1;33m.\u001b[0m\u001b[0m_final_estimator\u001b[0m \u001b[1;32mis\u001b[0m \u001b[1;32mnot\u001b[0m \u001b[0mNone\u001b[0m\u001b[1;33m:\u001b[0m\u001b[1;33m\u001b[0m\u001b[0m\n\u001b[1;32m--> 250\u001b[1;33m             \u001b[0mself\u001b[0m\u001b[1;33m.\u001b[0m\u001b[0m_final_estimator\u001b[0m\u001b[1;33m.\u001b[0m\u001b[0mfit\u001b[0m\u001b[1;33m(\u001b[0m\u001b[0mXt\u001b[0m\u001b[1;33m,\u001b[0m \u001b[0my\u001b[0m\u001b[1;33m,\u001b[0m \u001b[1;33m**\u001b[0m\u001b[0mfit_params\u001b[0m\u001b[1;33m)\u001b[0m\u001b[1;33m\u001b[0m\u001b[0m\n\u001b[0m\u001b[0;32m    251\u001b[0m         \u001b[1;32mreturn\u001b[0m \u001b[0mself\u001b[0m\u001b[1;33m\u001b[0m\u001b[0m\n\u001b[0;32m    252\u001b[0m \u001b[1;33m\u001b[0m\u001b[0m\n",
      "\u001b[1;32mC:\\Users\\s_emh\\Anaconda3\\envs\\udacity\\lib\\site-packages\\sklearn\\svm\\classes.pyc\u001b[0m in \u001b[0;36mfit\u001b[1;34m(self, X, y, sample_weight)\u001b[0m\n\u001b[0;32m    225\u001b[0m \u001b[1;33m\u001b[0m\u001b[0m\n\u001b[0;32m    226\u001b[0m         X, y = check_X_y(X, y, accept_sparse='csr',\n\u001b[1;32m--> 227\u001b[1;33m                          dtype=np.float64, order=\"C\")\n\u001b[0m\u001b[0;32m    228\u001b[0m         \u001b[0mcheck_classification_targets\u001b[0m\u001b[1;33m(\u001b[0m\u001b[0my\u001b[0m\u001b[1;33m)\u001b[0m\u001b[1;33m\u001b[0m\u001b[0m\n\u001b[0;32m    229\u001b[0m         \u001b[0mself\u001b[0m\u001b[1;33m.\u001b[0m\u001b[0mclasses_\u001b[0m \u001b[1;33m=\u001b[0m \u001b[0mnp\u001b[0m\u001b[1;33m.\u001b[0m\u001b[0munique\u001b[0m\u001b[1;33m(\u001b[0m\u001b[0my\u001b[0m\u001b[1;33m)\u001b[0m\u001b[1;33m\u001b[0m\u001b[0m\n",
      "\u001b[1;32mC:\\Users\\s_emh\\Anaconda3\\envs\\udacity\\lib\\site-packages\\sklearn\\utils\\validation.pyc\u001b[0m in \u001b[0;36mcheck_X_y\u001b[1;34m(X, y, accept_sparse, dtype, order, copy, force_all_finite, ensure_2d, allow_nd, multi_output, ensure_min_samples, ensure_min_features, y_numeric, warn_on_dtype, estimator)\u001b[0m\n\u001b[0;32m    576\u001b[0m                         dtype=None)\n\u001b[0;32m    577\u001b[0m     \u001b[1;32melse\u001b[0m\u001b[1;33m:\u001b[0m\u001b[1;33m\u001b[0m\u001b[0m\n\u001b[1;32m--> 578\u001b[1;33m         \u001b[0my\u001b[0m \u001b[1;33m=\u001b[0m \u001b[0mcolumn_or_1d\u001b[0m\u001b[1;33m(\u001b[0m\u001b[0my\u001b[0m\u001b[1;33m,\u001b[0m \u001b[0mwarn\u001b[0m\u001b[1;33m=\u001b[0m\u001b[0mTrue\u001b[0m\u001b[1;33m)\u001b[0m\u001b[1;33m\u001b[0m\u001b[0m\n\u001b[0m\u001b[0;32m    579\u001b[0m         \u001b[0m_assert_all_finite\u001b[0m\u001b[1;33m(\u001b[0m\u001b[0my\u001b[0m\u001b[1;33m)\u001b[0m\u001b[1;33m\u001b[0m\u001b[0m\n\u001b[0;32m    580\u001b[0m     \u001b[1;32mif\u001b[0m \u001b[0my_numeric\u001b[0m \u001b[1;32mand\u001b[0m \u001b[0my\u001b[0m\u001b[1;33m.\u001b[0m\u001b[0mdtype\u001b[0m\u001b[1;33m.\u001b[0m\u001b[0mkind\u001b[0m \u001b[1;33m==\u001b[0m \u001b[1;34m'O'\u001b[0m\u001b[1;33m:\u001b[0m\u001b[1;33m\u001b[0m\u001b[0m\n",
      "\u001b[1;32mC:\\Users\\s_emh\\Anaconda3\\envs\\udacity\\lib\\site-packages\\sklearn\\utils\\validation.pyc\u001b[0m in \u001b[0;36mcolumn_or_1d\u001b[1;34m(y, warn)\u001b[0m\n\u001b[0;32m    612\u001b[0m         \u001b[1;32mreturn\u001b[0m \u001b[0mnp\u001b[0m\u001b[1;33m.\u001b[0m\u001b[0mravel\u001b[0m\u001b[1;33m(\u001b[0m\u001b[0my\u001b[0m\u001b[1;33m)\u001b[0m\u001b[1;33m\u001b[0m\u001b[0m\n\u001b[0;32m    613\u001b[0m \u001b[1;33m\u001b[0m\u001b[0m\n\u001b[1;32m--> 614\u001b[1;33m     \u001b[1;32mraise\u001b[0m \u001b[0mValueError\u001b[0m\u001b[1;33m(\u001b[0m\u001b[1;34m\"bad input shape {0}\"\u001b[0m\u001b[1;33m.\u001b[0m\u001b[0mformat\u001b[0m\u001b[1;33m(\u001b[0m\u001b[0mshape\u001b[0m\u001b[1;33m)\u001b[0m\u001b[1;33m)\u001b[0m\u001b[1;33m\u001b[0m\u001b[0m\n\u001b[0m\u001b[0;32m    615\u001b[0m \u001b[1;33m\u001b[0m\u001b[0m\n\u001b[0;32m    616\u001b[0m \u001b[1;33m\u001b[0m\u001b[0m\n",
      "\u001b[1;31mValueError\u001b[0m: bad input shape ()"
     ]
    }
   ],
   "source": [
    "pipe.fit(x_train)\n",
    "plot_pca(pipe.named_steps['reducedim'], nontotal_features)"
   ]
  },
  {
   "cell_type": "markdown",
   "metadata": {},
   "source": [
    "Running a p"
   ]
  },
  {
   "cell_type": "code",
   "execution_count": null,
   "metadata": {},
   "outputs": [],
   "source": [
    "pca = PCA(n_components=4)\n",
    "financial_components = pca.fit_transform(financial_data[financial_features])"
   ]
  },
  {
   "cell_type": "code",
   "execution_count": null,
   "metadata": {},
   "outputs": [],
   "source": [
    "from sklearn.feature_selection import VarianceThreshold\n",
    "sel = VarianceThreshold()\n",
    "sel.fit(financial_data[financial_features].values)"
   ]
  },
  {
   "cell_type": "markdown",
   "metadata": {},
   "source": [
    "## Algorithm Selection"
   ]
  },
  {
   "cell_type": "markdown",
   "metadata": {},
   "source": [
    "## References\n",
    "<div class=\"cite2c-biblio\"></div>"
   ]
  }
 ],
 "metadata": {
  "cite2c": {
   "citations": {
    "6112171/BAJ6H3FC": {
     "URL": "http://usatoday30.usatoday.com/money/industries/energy/2005-12-28-enron-participants_x.htm",
     "accessed": {
      "day": 28,
      "month": 5,
      "year": 2018
     },
     "id": "6112171/BAJ6H3FC",
     "title": "USATODAY.com - A look at those involved in the Enron scandal",
     "type": "webpage"
    },
    "6112171/GLPDFEY4": {
     "URL": "https://www.cs.cmu.edu/~enron/",
     "accessed": {
      "day": 28,
      "month": 5,
      "year": 2018
     },
     "id": "6112171/GLPDFEY4",
     "title": "Enron Email Dataset",
     "type": "webpage"
    },
    "6112171/GRUQ2GTK": {
     "URL": "http://scikit-learn.org/stable/auto_examples/plot_compare_reduction.html",
     "accessed": {
      "day": 29,
      "month": 5,
      "year": 2018
     },
     "id": "6112171/GRUQ2GTK",
     "title": "Selecting dimensionality reduction with Pipeline and GridSearchCV — scikit-learn 0.19.1 documentation",
     "type": "webpage"
    },
    "6112171/SUB22V52": {
     "URL": "http://scikit-learn.org/stable/modules/generated/sklearn.decomposition.PCA.html",
     "accessed": {
      "day": 29,
      "month": 5,
      "year": 2018
     },
     "id": "6112171/SUB22V52",
     "title": "sklearn.decomposition.PCA — scikit-learn 0.19.1 documentation",
     "type": "webpage"
    },
    "6112171/XBR54C3J": {
     "URL": "https://en.wikipedia.org/w/index.php?title=Vincent_Kaminski&oldid=786433458",
     "abstract": "Vincent Julian Kaminski was born in Poland and worked as the Managing Director for Research at the failed energy trading corporation Enron until 2002. In this capacity he led a team of approximately fifty analysts who developed quantitative models to support energy trading. In the months preceding Enron’s bankruptcy Kaminski repeatedly raised strong objections to the financial practices of Enron’s Chief Financial Officer, Andrew Fastow, designed to fraudulently conceal the company’s burgeoning debt.\nThe primary practice involved hiding Enron’s debt in partnership companies managed by Fastow and financed by outside creditors. The debt was then secured against stock in the Enron Corporation itself, which was strongly valued at that time. To induce creditors to assume the risk of financing this debt certain \"trigger events\" were built into the contracts which would require immediate repayment of the full loan amount, such as the decline of the stock value used as collateral below a prearranged level. During the course of a company-wide comprehensive risk assessment Kaminski and his team of analysts pointed out that there existed many such arrangements, and if one were triggered the rest would be activated like dominoes as the stock price fell in response to the bad news, effectively ending the financial viability of the company. Kaminski’s strident opposition to these practices was one of the last chances to avert the implosion which soon followed.\nDr. Kaminski holds an M.S. degree in International Economics and a Ph.D. degree in Mathematical Economics from the Main School of Planning and Statistics in Warsaw (which has since been renamed Warsaw School of Economics), and an MBA from Fordham University in New York City. He teaches at the business school of Rice University in Houston, Texas, and is the author of several books on risk management and energy trading. Books by Dr. Kaminski:\nEnergy Modelling: Advances in the Management of Uncertainty, published by Risk Books in 2005, ISBN 1-904339-42-5\nManaging Energy Price Risk: The New Challenges and Solutions, published by Risk Books in 2004, ISBN 1-904339-19-0\nEnergy Markets http://riskbooks.com/energy-markets, published by Risk Books on 18 January 2013, ISBN 9781906348793",
     "accessed": {
      "day": 29,
      "month": 5,
      "year": 2018
     },
     "container-title": "Wikipedia",
     "id": "6112171/XBR54C3J",
     "issued": {
      "day": 19,
      "month": 6,
      "year": 2017
     },
     "language": "en",
     "note": "Page Version ID: 786433458",
     "title": "Vincent Kaminski",
     "type": "entry-encyclopedia"
    }
   }
  },
  "kernelspec": {
   "display_name": "Python 2",
   "language": "python",
   "name": "python2"
  },
  "language_info": {
   "codemirror_mode": {
    "name": "ipython",
    "version": 2
   },
   "file_extension": ".py",
   "mimetype": "text/x-python",
   "name": "python",
   "nbconvert_exporter": "python",
   "pygments_lexer": "ipython2",
   "version": "2.7.15"
  }
 },
 "nbformat": 4,
 "nbformat_minor": 2
}
