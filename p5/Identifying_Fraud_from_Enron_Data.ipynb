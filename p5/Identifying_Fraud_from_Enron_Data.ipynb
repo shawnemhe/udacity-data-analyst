{
 "cells": [
  {
   "cell_type": "markdown",
   "metadata": {},
   "source": [
    "# Identifying Fraud from Enron Data\n",
    "\n",
    "This project will use machine learning to attempt to identify persons of interest from the Enron financial scandel. Persons of Interest (POIs) were defined at the onset by Udacity using resource created by USA Today <cite data-cite=\"6112171/BAJ6H3FC\"></cite>. \n",
    "\n",
    "Two data resources were identified by Udacity for identifying POIs. The first is the Enron Email Datset maintained by Carnegie Mellon University <cite data-cite=\"6112171/GLPDFEY4\"></cite>. The email dataset contains a corpus of close to 500,000 email messages from Enron's servers. The second is a dataset created by Udacity with a collection of useful information for the task. It contains both financial features as well as aggregate information about the email dataset. \n",
    "\n",
    "Machine learning is an ideal tool for this task because it can be used to process large amounts of information in a way that would be time consuming for humans. Machine learning algorithms use statistical methods to *learn* from data and can then make inferences based on the relationships they have found.\n",
    "\n",
    "## Data Exploration\n"
   ]
  },
  {
   "cell_type": "code",
   "execution_count": 1,
   "metadata": {},
   "outputs": [],
   "source": [
    "import pickle\n",
    "import pandas as pd"
   ]
  },
  {
   "cell_type": "code",
   "execution_count": 2,
   "metadata": {},
   "outputs": [],
   "source": [
    "with open('final_project_dataset.pkl', 'r') as data_file:\n",
    "    data_dict = pickle.load(data_file)"
   ]
  },
  {
   "cell_type": "markdown",
   "metadata": {},
   "source": [
    "## Outlier Investigation"
   ]
  },
  {
   "cell_type": "markdown",
   "metadata": {},
   "source": [
    "## Feature Selection"
   ]
  },
  {
   "cell_type": "markdown",
   "metadata": {},
   "source": [
    "## Algorithm Selection"
   ]
  },
  {
   "cell_type": "markdown",
   "metadata": {},
   "source": [
    "## References\n",
    "<div class=\"cite2c-biblio\"></div>"
   ]
  }
 ],
 "metadata": {
  "cite2c": {
   "citations": {
    "6112171/BAJ6H3FC": {
     "URL": "http://usatoday30.usatoday.com/money/industries/energy/2005-12-28-enron-participants_x.htm",
     "accessed": {
      "day": 28,
      "month": 5,
      "year": 2018
     },
     "id": "6112171/BAJ6H3FC",
     "title": "USATODAY.com - A look at those involved in the Enron scandal",
     "type": "webpage"
    },
    "6112171/GLPDFEY4": {
     "URL": "https://www.cs.cmu.edu/~enron/",
     "accessed": {
      "day": 28,
      "month": 5,
      "year": 2018
     },
     "id": "6112171/GLPDFEY4",
     "title": "Enron Email Dataset",
     "type": "webpage"
    }
   }
  },
  "kernelspec": {
   "display_name": "Python 2",
   "language": "python",
   "name": "python2"
  },
  "language_info": {
   "codemirror_mode": {
    "name": "ipython",
    "version": 2
   },
   "file_extension": ".py",
   "mimetype": "text/x-python",
   "name": "python",
   "nbconvert_exporter": "python",
   "pygments_lexer": "ipython2",
   "version": "2.7.15"
  }
 },
 "nbformat": 4,
 "nbformat_minor": 2
}
