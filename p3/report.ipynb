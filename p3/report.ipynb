{
 "cells": [
  {
   "cell_type": "markdown",
   "metadata": {},
   "source": [
    "# Wrangle OpenStreetMap Data [MongoDB]\n",
    "\n",
    "> ## Bella Napoli - Naples, Italy\n",
    "> Author: Shawn P Emhe II\n",
    "\n",
    "I have lived in the Naples area for a significant portion of my adult life. Originally dubbed Neapolis, or New City by the ancient Greeks, Naples is anything but. The tight winding streets and dense population should provide interesting challenges for this project.\n",
    "\n",
    "## Problems with the Data\n",
    "\n",
    "Running audits on the Naples area dataset revealed several obstacles that needed to be worked through before the data could be wrangled into a MongoDB database. These problems ranged from the wide array of street types used in the region, inconsistent capitalization by map contributors and over abbrevations in street names. There were even conflicts in the way contributors tagged the city's most famous gastrnomical contribution.  In addition, Italy has several different phone formats making phone number validation a feat of its own.\n",
    "\n",
    "An audit module was used to audit the file and find errors in the data."
   ]
  },
  {
   "cell_type": "markdown",
   "metadata": {},
   "source": [
    "### Street Names\n",
    "The Italian format for street names places the street type at the begining of the name. In some situations the street names are also prefaced with a Roman numeral to indicate cadence. Small traversal streets frequently use this syntax. For example, \"III Traversa Pisciarella\" indicates that the road is the thrid street to cross Via Pisciarella.\n",
    "\n",
    "After auditing the OSM file and building a list of expected street types only a few errors were found in the street types:\n",
    "- In some situations, \"Prima\" and \"Seconda\" (first and second) were used where Roman numerals were expected.\n",
    "- \"Via\" was found misspelled as \"Viia\".\n",
    "\n",
    "These errors were removed by mapping the correctings in a dictionary.\n",
    "\n",
    "```python\n",
    "st_name_mapping = {\n",
    "    'Prima': 'I',\n",
    "    'Seconda': 'II',\n",
    "    'viia': 'Via',\n",
    "    'Viia': 'Via'\n",
    "}\n",
    "```\n",
    "\n",
    "However, other formatting problems were found:\n",
    "- Capitalization was inconsistent.\n",
    "- Street names used abbreviations whose meanings weren't apparent.\n",
    "\n",
    "Correcting capitalzation was made easy by converting the strings to title case. A regular expression was used to ensure that roman numerals were fixed after this step. E.G., \"Iv\" needed to be converted back to \"IV\" after title case was applied.\n",
    "\n",
    "The abbreviations required more attention. They were handled by building a regular expression that captured the abbreviation along with the immediately following word. This allowed for capturing the context of the abbreviation before making the correction. The full street names were tracked down and used to buid a dictionary.\n",
    "\n",
    "```python\n",
    "abbreviations = {\n",
    "    \"A. De\": \"Antonio De\",\n",
    "    \"A. S. Novaro\": \"Angelo Silvio Novaro\",\n",
    "    \"B. V. Romano\": \"Beato Vincenzo Romano\",\n",
    "    \"G. Di\": \"Gaspare Di\",\n",
    "    \"G. Marotta\": \"Giuseppe Marotta\",\n",
    "    \"G. Melisurgo\": \"Guglielmo Melisurgo\",\n",
    "    \"S. Angelo\": \"Sant'Angelo\",\n",
    "    \"S.Agnese\": \"Sant'Agnese\",\n",
    "    \"S.Ignazio\": \"Sant'Ignazio\"\n",
    "}\n",
    "```\n",
    "\n",
    "The final functions for repairing street names and abbreviations are below. Notice that the `update_short_name` function calls the `update_street_name` function to ensure that it has a properly formatted street name before expanding the abbreviation.  "
   ]
  },
  {
   "cell_type": "markdown",
   "metadata": {},
   "source": [
    "```python\n",
    "def update_street_name(name):\n",
    "    # Convert lowercase street names to title case\n",
    "    if name.islower():\n",
    "        name = name.title()\n",
    "\n",
    "    # Find Roman Numerals and make sure they are capitalized\n",
    "    name = roman_numeral_re.sub(lambda x: str.upper(x.group()), name)\n",
    "\n",
    "    # retrieve the street type\n",
    "    m = street_type_re.search(name)\n",
    "    street_type = m.group(2)\n",
    "    if street_type in st_name_mapping:\n",
    "        replacement = r'\\1' + st_name_mapping[street_type]\n",
    "        name = street_type_re.sub(replacement, name)\n",
    "    elif street_type.islower():\n",
    "        replacement = r'\\1' + street_type.capitalize()\n",
    "        name = street_type_re.sub(replacement, name)\n",
    "\n",
    "    return name\n",
    "\n",
    "\n",
    "def update_short_name(name):\n",
    "    \"\"\"Expands an abbreviated name to full length\n",
    "\n",
    "    :param name: Abbreviated name to expand\n",
    "    :return: Unabbreviated name\n",
    "    \"\"\"\n",
    "    # First verify that the common errors have been fixed\n",
    "    name = update_street_name(name)\n",
    "\n",
    "    # Find the abbreviation to replace\n",
    "    m = over_abbr_re.search(name)\n",
    "    if m:\n",
    "        if m.group() in abbreviations:\n",
    "            name = over_abbr_re.sub(abbreviations[m.group()], name)\n",
    "\n",
    "    return name\n",
    "```"
   ]
  },
  {
   "cell_type": "markdown",
   "metadata": {},
   "source": [
    "### Cuisine Types\n",
    " \n",
    "Auditing the cuisine type tags revealed a feature of Italian dining that I had already discovered while living in the country. There is a strong national pride in the local cuisine and the vast majority of restaurants serve Italian food. However, there were some anomolies in the way even the local food was tagged.\n",
    "- There were three different tags for pizza:\n",
    " - pizza\n",
    " - italian_pizza\n",
    " - fried_pizza\n",
    "- There were multiple ways of tagging the local food:\n",
    " - italian\n",
    " - regional\n",
    " - regional,_italian\n",
    "\n",
    "Naples prides itself in being the birth place of pizza, and any variations from the local recipe are likely to get a restaurant owner chased out of town by an angry mob. The Italian pizza tag can be easily dropped as superfluous information. However, from experience I know that fried pizza is an option that not all pizzerias offer and is worth keeping.\n",
    "\n",
    "\"Regional\" is also relavent because many restaurants like to distinguish themselves as being representative of the classic dishes of their area. However, \"regional italian\" can be shortened to \"regional\" without losing any information and increase conformity of the tags. \n",
    "\n",
    "The following dictionary and function were created to update the cuisine tags.\n",
    "```python\n",
    "cuisine_types = {\n",
    "    \"italian_pizza\": \"pizza\",\n",
    "    \"regional,_italian\": \"regional\"\n",
    "}\n",
    "\n",
    "def update_cuisine(cuisine_type):\n",
    "    \"\"\"\n",
    "    Updates a cuisine type\n",
    "    :param cuisine_type: type to fix\n",
    "    :return: corrected cuisine type\n",
    "    \"\"\"\n",
    "\n",
    "    # there is only pizza\n",
    "    if cuisine_type in cuisine_types.iterkeys():\n",
    "        return cuisine_types[cuisine_type]\n",
    "    else:\n",
    "        return cuisine_type\n",
    "```"
   ]
  },
  {
   "cell_type": "markdown",
   "metadata": {},
   "source": [
    "### Phone numbers\n",
    "A unique feature of Italian phone numbers is that their lengths can vary. For this reason I decided that the best way to store them was without dashes or spaces. That way a different format did not need to be managed for each possible phone number length.\n",
    "\n",
    "During the audit multiple discrepancies were found in the way phone numbers had been added. Out of 612 numbers:\n",
    "- 589 numbers included a country code\n",
    "- 572 numbers had spaces\n",
    "- 2 had dashes\n",
    "- 3 were missing the landline prefix (landlines are required to start with 0, while cellular numbers all start with 3)\n",
    "- 1 number was found with the wrong number of digits\n",
    "\n",
    "A function was created to conform the numbers. None is returned when the phone number is of the incorrect length to prevent keeping incorrect data.\n",
    "\n",
    "```python\n",
    "def update_number(number):\n",
    "    \"\"\"\n",
    "    Corrects number formatting\n",
    "    :param number: phone number to reformat\n",
    "    :return: phone number in +<country code><number> format\n",
    "    \"\"\"\n",
    "    # remove non-numeric characters\n",
    "    number = re.sub(r'[^\\d]', '', number)\n",
    "\n",
    "    # remove country code for length checking\n",
    "    number = re.sub(r'^39', '', number)\n",
    "\n",
    "    # Return None if the number is in the incorrect format\n",
    "    if not 6 <= len(number) <= 11:\n",
    "        return None\n",
    "\n",
    "    # Verify landlines include a 0 prefix.\n",
    "    # A land line is any number not starting with a 3.\n",
    "    number = re.sub(r'^([^03]\\d+)', r'0\\1', number)\n",
    "\n",
    "    # Insert country code\n",
    "    number = \"+39\" + number\n",
    "\n",
    "    return number\n",
    "```"
   ]
  },
  {
   "cell_type": "markdown",
   "metadata": {},
   "source": [
    "## Exploring the data\n"
   ]
  },
  {
   "cell_type": "markdown",
   "metadata": {},
   "source": [
    "The `napoli.osm` XML file was 91.6 MB. The processing steps resulted in a 101 MB JSON file that was imported with the mongoimport command. The command below was used to import the JSON documents into a collection named \"napoli\" in the \"openstreetmap\" database.\n",
    "\n",
    "```batchfile\n",
    "'C:\\Program Files\\MongoDB\\Server\\3.6\\bin\\mongoimport.exe' /d openstreetmap /c napoli /file:.\\napoli.osm.json\n",
    "2018-05-06T14:19:59.322+0200    connected to: localhost\n",
    "2018-05-06T14:20:00.672+0200    [####....................] openstreetmap.napoli 19.2MB/101MB (18.9%)\n",
    "2018-05-06T14:20:03.671+0200    [#############...........] openstreetmap.napoli 58.8MB/101MB (58.1%)\n",
    "2018-05-06T14:20:06.670+0200    [########################] openstreetmap.napoli 101MB/101MB (100.0%)\n",
    "2018-05-06T14:20:06.677+0200    [########################] openstreetmap.napoli 101MB/101MB (100.0%)\n",
    "2018-05-06T14:20:06.678+0200    imported 478915 documents\n",
    "```\n",
    "\n",
    "The ouput showed that 478,915 documents were imported.\n",
    "\n",
    "### Connect to MongoDB\n",
    "The pymongo library provides tools that can be used to explore the database with python"
   ]
  },
  {
   "cell_type": "code",
   "execution_count": 11,
   "metadata": {},
   "outputs": [],
   "source": [
    "# Import necessary modules\n",
    "from pymongo import MongoClient, GEO2D\n",
    "from pprint import pprint\n",
    "\n",
    "# Create the client connection\n",
    "client = MongoClient('mongodb://localhost:27017')\n",
    "\n",
    "# Create a reference to the database and collection\n",
    "db = client.openstreetmap\n",
    "napoli = client.openstreetmap.napoli"
   ]
  },
  {
   "cell_type": "markdown",
   "metadata": {},
   "source": [
    "### Database Statistics"
   ]
  },
  {
   "cell_type": "code",
   "execution_count": 2,
   "metadata": {},
   "outputs": [
    {
     "name": "stdout",
     "output_type": "stream",
     "text": [
      "Colection Size: 109 MB\n",
      "Unique Users: 715\n",
      "Nodes: 412185\n",
      "Ways: 66729\n"
     ]
    }
   ],
   "source": [
    "# Convert bytes to megabytes\n",
    "def bytes_to_mb(size):\n",
    "    return size / 1024 / 1024\n",
    "\n",
    "\n",
    "coll_size = bytes_to_mb(db.command('collstats', 'napoli')['size'])\n",
    "n_users = len(napoli.distinct('created.uid'))\n",
    "n_nodes = napoli.count({'type': 'node'})\n",
    "n_ways = napoli.count({'type': 'way'})\n",
    "\n",
    "print 'Colection Size: {} MB'.format(coll_size)\n",
    "print 'Unique Users: {}'.format(n_users)\n",
    "print 'Nodes: {}'.format(n_nodes)\n",
    "print 'Ways: {}'.format(n_ways)"
   ]
  },
  {
   "cell_type": "markdown",
   "metadata": {},
   "source": [
    "### 10 Most common cuisines\n",
    "\n",
    "MongoDB uses Aggregation Pipelines to run queries that aggregate totals. The pipelines break the process down into a list of steps."
   ]
  },
  {
   "cell_type": "code",
   "execution_count": 3,
   "metadata": {},
   "outputs": [
    {
     "name": "stdout",
     "output_type": "stream",
     "text": [
      "{u'count': 104, u'cuisine': u'italian'}\n",
      "{u'count': 91, u'cuisine': u'pizza'}\n",
      "{u'count': 25, u'cuisine': u'regional'}\n",
      "{u'count': 11, u'cuisine': u'seafood'}\n",
      "{u'count': 9, u'cuisine': u'coffee_shop'}\n",
      "{u'count': 7, u'cuisine': u'kebab'}\n",
      "{u'count': 6, u'cuisine': u'burger'}\n",
      "{u'count': 5, u'cuisine': u'fish'}\n",
      "{u'count': 3, u'cuisine': u'pasta'}\n",
      "{u'count': 3, u'cuisine': u'sandwich'}\n"
     ]
    }
   ],
   "source": [
    "# Create a list of aggregation steps to feed as a pipeline\n",
    "pipeline = [\n",
    "    # because the cuisine field is an array, it needs to be \"unwound\" before aggregation\n",
    "    {'$unwind': '$cuisine'},\n",
    "    # aggregate by cuisine type and count each type\n",
    "    {'$group': {\n",
    "        '_id': '$cuisine',\n",
    "        'count': {'$sum':1}\n",
    "        }\n",
    "    },\n",
    "    # sort descending\n",
    "    {'$sort': {'count': -1}},\n",
    "    # limiting to top 10\n",
    "    {'$limit': 10},\n",
    "    # reshape output as cuisine and count\n",
    "    {'$project': {\n",
    "        '_id': 0,\n",
    "        'cuisine': '$_id',\n",
    "        'count': 1\n",
    "        }\n",
    "    }\n",
    "]\n",
    "\n",
    "cuisine_counts = napoli.aggregate(pipeline)\n",
    "\n",
    "for count in cuisine_counts:\n",
    "    print(count)"
   ]
  },
  {
   "cell_type": "markdown",
   "metadata": {},
   "source": [
    "#### Mangiamo Italiano\n",
    "While Kebab and Burger have managed to make their way into the top 10, the rest are all Italian affair. Sandwhiches are also arguably international, but even they have a unique Italian flavor here.\n",
    "\n",
    "#### Pizza Pizza\n",
    "\n",
    "```python\n",
    "napoli.create_index([('loc', GEO2D)])\n",
    "```"
   ]
  },
  {
   "cell_type": "code",
   "execution_count": 73,
   "metadata": {},
   "outputs": [
    {
     "data": {
      "text/plain": [
       "86"
      ]
     },
     "execution_count": 73,
     "metadata": {},
     "output_type": "execute_result"
    }
   ],
   "source": [
    "napoli.count({'cuisine': 'pizza', 'pos': {'$exists': 1}})"
   ]
  },
  {
   "cell_type": "code",
   "execution_count": 103,
   "metadata": {},
   "outputs": [],
   "source": [
    "pizzaria_coords = list(\n",
    "    napoli.find({'cuisine': 'pizza',\n",
    "                 'pos': {'$exists': 1}\n",
    "                },\n",
    "                {'pos': 1}\n",
    "               )\n",
    ")"
   ]
  },
  {
   "cell_type": "code",
   "execution_count": 110,
   "metadata": {},
   "outputs": [
    {
     "ename": "OperationFailure",
     "evalue": "geoNear command failed: { ok: 0.0, errmsg: \"error processing query: ns=openstreetmap.napoli limit=1Tree: $and\n    cuisine $eq \"pizza\"\n    $not\n        _id $eq ObjectId('5aeef2efb1703b656daf7a36'...\", code: 2, codeName: \"BadValue\" }",
     "output_type": "error",
     "traceback": [
      "\u001b[1;31m---------------------------------------------------------------------------\u001b[0m",
      "\u001b[1;31mOperationFailure\u001b[0m                          Traceback (most recent call last)",
      "\u001b[1;32m<ipython-input-110-3e4876c85656>\u001b[0m in \u001b[0;36m<module>\u001b[1;34m()\u001b[0m\n\u001b[0;32m     11\u001b[0m         }}\n\u001b[0;32m     12\u001b[0m     ]\n\u001b[1;32m---> 13\u001b[1;33m     \u001b[0mnapoli\u001b[0m\u001b[1;33m.\u001b[0m\u001b[0maggregate\u001b[0m\u001b[1;33m(\u001b[0m\u001b[0mpipeline\u001b[0m\u001b[1;33m)\u001b[0m\u001b[1;33m\u001b[0m\u001b[0m\n\u001b[0m\u001b[0;32m     14\u001b[0m     \u001b[1;32mbreak\u001b[0m\u001b[1;33m\u001b[0m\u001b[0m\n",
      "\u001b[1;32mC:\\Users\\s_emh\\Anaconda3\\envs\\udacity\\lib\\site-packages\\pymongo\\collection.pyc\u001b[0m in \u001b[0;36maggregate\u001b[1;34m(self, pipeline, **kwargs)\u001b[0m\n\u001b[0;32m   1868\u001b[0m                     result = self._command(sock_info, cmd, slave_ok,\n\u001b[0;32m   1869\u001b[0m                                            \u001b[0mread_concern\u001b[0m\u001b[1;33m=\u001b[0m\u001b[0mself\u001b[0m\u001b[1;33m.\u001b[0m\u001b[0mread_concern\u001b[0m\u001b[1;33m,\u001b[0m\u001b[1;33m\u001b[0m\u001b[0m\n\u001b[1;32m-> 1870\u001b[1;33m                                            collation=collation)\n\u001b[0m\u001b[0;32m   1871\u001b[0m             \u001b[1;32melse\u001b[0m\u001b[1;33m:\u001b[0m\u001b[1;33m\u001b[0m\u001b[0m\n\u001b[0;32m   1872\u001b[0m                 result = self._command(sock_info, cmd, slave_ok,\n",
      "\u001b[1;32mC:\\Users\\s_emh\\Anaconda3\\envs\\udacity\\lib\\site-packages\\pymongo\\collection.pyc\u001b[0m in \u001b[0;36m_command\u001b[1;34m(self, sock_info, command, slave_ok, read_preference, codec_options, check, allowable_errors, read_concern, write_concern, parse_write_concern_error, collation)\u001b[0m\n\u001b[0;32m    230\u001b[0m             \u001b[0mwrite_concern\u001b[0m\u001b[1;33m=\u001b[0m\u001b[0mwrite_concern\u001b[0m\u001b[1;33m,\u001b[0m\u001b[1;33m\u001b[0m\u001b[0m\n\u001b[0;32m    231\u001b[0m             \u001b[0mparse_write_concern_error\u001b[0m\u001b[1;33m=\u001b[0m\u001b[0mparse_write_concern_error\u001b[0m\u001b[1;33m,\u001b[0m\u001b[1;33m\u001b[0m\u001b[0m\n\u001b[1;32m--> 232\u001b[1;33m             collation=collation)\n\u001b[0m\u001b[0;32m    233\u001b[0m \u001b[1;33m\u001b[0m\u001b[0m\n\u001b[0;32m    234\u001b[0m     \u001b[1;32mdef\u001b[0m \u001b[0m__create\u001b[0m\u001b[1;33m(\u001b[0m\u001b[0mself\u001b[0m\u001b[1;33m,\u001b[0m \u001b[0moptions\u001b[0m\u001b[1;33m,\u001b[0m \u001b[0mcollation\u001b[0m\u001b[1;33m)\u001b[0m\u001b[1;33m:\u001b[0m\u001b[1;33m\u001b[0m\u001b[0m\n",
      "\u001b[1;32mC:\\Users\\s_emh\\Anaconda3\\envs\\udacity\\lib\\site-packages\\pymongo\\pool.pyc\u001b[0m in \u001b[0;36mcommand\u001b[1;34m(self, dbname, spec, slave_ok, read_preference, codec_options, check, allowable_errors, check_keys, read_concern, write_concern, parse_write_concern_error, collation)\u001b[0m\n\u001b[0;32m    417\u001b[0m                            \u001b[0mread_concern\u001b[0m\u001b[1;33m,\u001b[0m\u001b[1;33m\u001b[0m\u001b[0m\n\u001b[0;32m    418\u001b[0m                            \u001b[0mparse_write_concern_error\u001b[0m\u001b[1;33m=\u001b[0m\u001b[0mparse_write_concern_error\u001b[0m\u001b[1;33m,\u001b[0m\u001b[1;33m\u001b[0m\u001b[0m\n\u001b[1;32m--> 419\u001b[1;33m                            collation=collation)\n\u001b[0m\u001b[0;32m    420\u001b[0m         \u001b[1;32mexcept\u001b[0m \u001b[0mOperationFailure\u001b[0m\u001b[1;33m:\u001b[0m\u001b[1;33m\u001b[0m\u001b[0m\n\u001b[0;32m    421\u001b[0m             \u001b[1;32mraise\u001b[0m\u001b[1;33m\u001b[0m\u001b[0m\n",
      "\u001b[1;32mC:\\Users\\s_emh\\Anaconda3\\envs\\udacity\\lib\\site-packages\\pymongo\\network.pyc\u001b[0m in \u001b[0;36mcommand\u001b[1;34m(sock, dbname, spec, slave_ok, is_mongos, read_preference, codec_options, check, allowable_errors, address, check_keys, listeners, max_bson_size, read_concern, parse_write_concern_error, collation)\u001b[0m\n\u001b[0;32m    114\u001b[0m             helpers._check_command_response(\n\u001b[0;32m    115\u001b[0m                 \u001b[0mresponse_doc\u001b[0m\u001b[1;33m,\u001b[0m \u001b[0mNone\u001b[0m\u001b[1;33m,\u001b[0m \u001b[0mallowable_errors\u001b[0m\u001b[1;33m,\u001b[0m\u001b[1;33m\u001b[0m\u001b[0m\n\u001b[1;32m--> 116\u001b[1;33m                 parse_write_concern_error=parse_write_concern_error)\n\u001b[0m\u001b[0;32m    117\u001b[0m     \u001b[1;32mexcept\u001b[0m \u001b[0mException\u001b[0m \u001b[1;32mas\u001b[0m \u001b[0mexc\u001b[0m\u001b[1;33m:\u001b[0m\u001b[1;33m\u001b[0m\u001b[0m\n\u001b[0;32m    118\u001b[0m         \u001b[1;32mif\u001b[0m \u001b[0mpublish\u001b[0m\u001b[1;33m:\u001b[0m\u001b[1;33m\u001b[0m\u001b[0m\n",
      "\u001b[1;32mC:\\Users\\s_emh\\Anaconda3\\envs\\udacity\\lib\\site-packages\\pymongo\\helpers.pyc\u001b[0m in \u001b[0;36m_check_command_response\u001b[1;34m(response, msg, allowable_errors, parse_write_concern_error)\u001b[0m\n\u001b[0;32m    208\u001b[0m \u001b[1;33m\u001b[0m\u001b[0m\n\u001b[0;32m    209\u001b[0m             \u001b[0mmsg\u001b[0m \u001b[1;33m=\u001b[0m \u001b[0mmsg\u001b[0m \u001b[1;32mor\u001b[0m \u001b[1;34m\"%s\"\u001b[0m\u001b[1;33m\u001b[0m\u001b[0m\n\u001b[1;32m--> 210\u001b[1;33m             \u001b[1;32mraise\u001b[0m \u001b[0mOperationFailure\u001b[0m\u001b[1;33m(\u001b[0m\u001b[0mmsg\u001b[0m \u001b[1;33m%\u001b[0m \u001b[0merrmsg\u001b[0m\u001b[1;33m,\u001b[0m \u001b[0mcode\u001b[0m\u001b[1;33m,\u001b[0m \u001b[0mresponse\u001b[0m\u001b[1;33m)\u001b[0m\u001b[1;33m\u001b[0m\u001b[0m\n\u001b[0m\u001b[0;32m    211\u001b[0m \u001b[1;33m\u001b[0m\u001b[0m\n\u001b[0;32m    212\u001b[0m \u001b[1;33m\u001b[0m\u001b[0m\n",
      "\u001b[1;31mOperationFailure\u001b[0m: geoNear command failed: { ok: 0.0, errmsg: \"error processing query: ns=openstreetmap.napoli limit=1Tree: $and\n    cuisine $eq \"pizza\"\n    $not\n        _id $eq ObjectId('5aeef2efb1703b656daf7a36'...\", code: 2, codeName: \"BadValue\" }"
     ]
    }
   ],
   "source": [
    "for pizzaria in pizzaria_coords:\n",
    "    pipeline = [\n",
    "        {'$geoNear': {\n",
    "            'near': {\n",
    "                'type': 'Point',\n",
    "                'coordinates': pizzaria['pos']},\n",
    "            'distanceField': 'dist.calculated',\n",
    "            'query': {'cuisine': 'pizza', '_id': {'$ne': pizzaria['_id']}},\n",
    "            'num': 1,\n",
    "            'spherical': True\n",
    "        }}\n",
    "    ]\n",
    "    napoli.aggregate(pipeline)\n",
    "    break\n"
   ]
  },
  {
   "cell_type": "code",
   "execution_count": 46,
   "metadata": {},
   "outputs": [
    {
     "data": {
      "text/plain": [
       "{u'_id': ObjectId('5aeef2efb1703b656daf7a36'),\n",
       " u'amenity': u'restaurant',\n",
       " u'created': {u'changeset': u'11945248',\n",
       "  u'timestamp': u'2012-06-19T08:00:01Z',\n",
       "  u'uid': u'202392',\n",
       "  u'user': u'imagic',\n",
       "  u'version': u'3'},\n",
       " u'cuisine': [u'pizza'],\n",
       " u'id': u'1416117210',\n",
       " u'name': u'Pizzaioli Napoletani Di Origine Protetta',\n",
       " u'pos': [40.8471414, 14.2310483],\n",
       " u'type': u'node'}"
      ]
     },
     "execution_count": 46,
     "metadata": {},
     "output_type": "execute_result"
    }
   ],
   "source": [
    "\n",
    "\n",
    "napoli.find_one({'pos': {'$near' : [40.8471414, 14.2310485]}})"
   ]
  },
  {
   "cell_type": "code",
   "execution_count": 70,
   "metadata": {},
   "outputs": [],
   "source": [
    "pizza = napoli.aggregate(\n",
    "    [\n",
    "        {'$geoNear': {\n",
    "            'spherical': True,\n",
    "            'num': 2,\n",
    "            'query': {'cuisine':'pizza'},\n",
    "            'near': [40.8471414, 14.2310483],\n",
    "            'distanceField': 'distanceCalculated',\n",
    "            'distanceMultiplier': 6371\n",
    "        }}\n",
    "    ]\n",
    ")"
   ]
  },
  {
   "cell_type": "code",
   "execution_count": 71,
   "metadata": {},
   "outputs": [
    {
     "data": {
      "text/plain": [
       "[{u'_id': ObjectId('5aeef2efb1703b656daf7a36'),\n",
       "  u'amenity': u'restaurant',\n",
       "  u'created': {u'changeset': u'11945248',\n",
       "   u'timestamp': u'2012-06-19T08:00:01Z',\n",
       "   u'uid': u'202392',\n",
       "   u'user': u'imagic',\n",
       "   u'version': u'3'},\n",
       "  u'cuisine': [u'pizza'],\n",
       "  u'distanceCalculated': 0.0,\n",
       "  u'id': u'1416117210',\n",
       "  u'name': u'Pizzaioli Napoletani Di Origine Protetta',\n",
       "  u'pos': [40.8471414, 14.2310483],\n",
       "  u'type': u'node'},\n",
       " {u'_id': ObjectId('5aeef2efb1703b656daf7a58'),\n",
       "  u'amenity': u'restaurant',\n",
       "  u'created': {u'changeset': u'46519590',\n",
       "   u'timestamp': u'2017-03-02T11:27:35Z',\n",
       "   u'uid': u'3479270',\n",
       "   u'user': u'nammala',\n",
       "   u'version': u'4'},\n",
       "  u'cuisine': [u'pizza'],\n",
       "  u'distanceCalculated': 0.32698290505104155,\n",
       "  u'id': u'1418554253',\n",
       "  u'name': u'Trattoria Vanvitelli',\n",
       "  u'pos': [40.8441268, 14.231378],\n",
       "  u'type': u'node'}]"
      ]
     },
     "execution_count": 71,
     "metadata": {},
     "output_type": "execute_result"
    }
   ],
   "source": [
    "list(pizza)"
   ]
  }
 ],
 "metadata": {
  "kernelspec": {
   "display_name": "Python 2",
   "language": "python",
   "name": "python2"
  },
  "language_info": {
   "codemirror_mode": {
    "name": "ipython",
    "version": 2
   },
   "file_extension": ".py",
   "mimetype": "text/x-python",
   "name": "python",
   "nbconvert_exporter": "python",
   "pygments_lexer": "ipython2",
   "version": "2.7.15"
  }
 },
 "nbformat": 4,
 "nbformat_minor": 1
}
