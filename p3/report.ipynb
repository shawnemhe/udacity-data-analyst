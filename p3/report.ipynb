{
 "cells": [
  {
   "cell_type": "markdown",
   "metadata": {},
   "source": [
    "# Wrangle OpenStreetMap Data [MongoDB]\n",
    "\n",
    "> ## Bella Napoli - Naples, Italy\n",
    "> Author: Shawn P Emhe II\n",
    "\n",
    "I have lived in the Naples area for a significant portion of my adult life. Originally dubbed Neapolis, or New City by the ancient Greeks, Naples is anything but. The tight winding streets and dense population should provide interesting challenges for this project.\n",
    "\n",
    "The map for the project can be found [here](https://www.openstreetmap.org/relation/40767).\n",
    "\n",
    "## Problems with the Data\n",
    "\n",
    "Running audits on the Naples area dataset revealed several obstacles that needed to be worked through before the data could be wrangled into a MongoDB database. These problems ranged from the wide array of street types used in the region, inconsistent capitalization by map contributors and over abbrevations in street names. There were even conflicts in the way contributors tagged the city's most famous gastrnomical contribution.  In addition, Italy has several different phone formats making phone number validation a feat of its own.\n",
    "\n",
    "An audit module was used to audit the file and find errors in the data."
   ]
  },
  {
   "cell_type": "markdown",
   "metadata": {},
   "source": [
    "### Street Names\n",
    "The Italian format for street names places the street type at the begining of the name. In some situations the street names are also prefaced with a Roman numeral to indicate cadence. Small traversal streets frequently use this syntax. For example, \"III Traversa Pisciarella\" indicates that the road is the thrid street to cross Via Pisciarella.\n",
    "\n",
    "After auditing the OSM file and building a list of expected street types only a few errors were found in the street types:\n",
    "- In some situations, \"Prima\" and \"Seconda\" (first and second) were used where Roman numerals were expected.\n",
    "- \"Via\" was found misspelled as \"Viia\".\n",
    "\n",
    "These errors were removed by mapping the correctings in a dictionary.\n",
    "\n",
    "```python\n",
    "st_name_mapping = {\n",
    "    'Prima': 'I',\n",
    "    'Seconda': 'II',\n",
    "    'viia': 'Via',\n",
    "    'Viia': 'Via'\n",
    "}\n",
    "```\n",
    "\n",
    "However, other formatting problems were found:\n",
    "- Capitalization was inconsistent.\n",
    "- Street names used abbreviations whose meanings weren't apparent.\n",
    "\n",
    "Correcting capitalzation was made easy by converting the strings to title case. A regular expression was used to ensure that roman numerals were fixed after this step. E.G., \"Iv\" needed to be converted back to \"IV\" after title case was applied.\n",
    "\n",
    "The abbreviations required more attention. They were handled by building a regular expression that captured the abbreviation along with the immediately following word. This allowed for capturing the context before making a correction. The full street names were tracked down and used to buid a dictionary.\n",
    "\n",
    "```python\n",
    "abbreviations = {\n",
    "    \"A. De\": \"Antonio De\",\n",
    "    \"A. S. Novaro\": \"Angelo Silvio Novaro\",\n",
    "    \"B. V. Romano\": \"Beato Vincenzo Romano\",\n",
    "    \"G. Di\": \"Gaspare Di\",\n",
    "    \"G. Marotta\": \"Giuseppe Marotta\",\n",
    "    \"G. Melisurgo\": \"Guglielmo Melisurgo\",\n",
    "    \"S. Angelo\": \"Sant'Angelo\",\n",
    "    \"S.Agnese\": \"Sant'Agnese\",\n",
    "    \"S.Ignazio\": \"Sant'Ignazio\"\n",
    "}\n",
    "```\n",
    "\n",
    "The final functions for repairing street names and abbreviations are below. Notice that the `update_short_name` function calls the `update_street_name` function to ensure that it has a properly formatted street name before expanding the abbreviation.  "
   ]
  },
  {
   "cell_type": "markdown",
   "metadata": {},
   "source": [
    "```python\n",
    "def update_street_name(name):\n",
    "    # Convert lowercase street names to title case\n",
    "    if name.islower():\n",
    "        name = name.title()\n",
    "\n",
    "    # Find Roman Numerals and make sure they are capitalized\n",
    "    name = roman_numeral_re.sub(lambda x: str.upper(x.group()), name)\n",
    "\n",
    "    # retrieve the street type\n",
    "    m = street_type_re.search(name)\n",
    "    street_type = m.group(2)\n",
    "    if street_type in st_name_mapping:\n",
    "        replacement = r'\\1' + st_name_mapping[street_type]\n",
    "        name = street_type_re.sub(replacement, name)\n",
    "    elif street_type.islower():\n",
    "        replacement = r'\\1' + street_type.capitalize()\n",
    "        name = street_type_re.sub(replacement, name)\n",
    "\n",
    "    return name\n",
    "\n",
    "\n",
    "def update_short_name(name):\n",
    "    \"\"\"Expands an abbreviated name to full length\n",
    "\n",
    "    :param name: Abbreviated name to expand\n",
    "    :return: Unabbreviated name\n",
    "    \"\"\"\n",
    "    # First verify that the common errors have been fixed\n",
    "    name = update_street_name(name)\n",
    "\n",
    "    # Find the abbreviation to replace\n",
    "    m = over_abbr_re.search(name)\n",
    "    if m:\n",
    "        if m.group() in abbreviations:\n",
    "            name = over_abbr_re.sub(abbreviations[m.group()], name)\n",
    "\n",
    "    return name\n",
    "```"
   ]
  },
  {
   "cell_type": "markdown",
   "metadata": {},
   "source": [
    "### Cuisine Types\n",
    " \n",
    "Auditing the cuisine type tags revealed a feature of Italian dining that I had already discovered while living in the country. There is a strong national pride in the local cuisine and the vast majority of restaurants serve Italian food. However, there were some anomolies in the way even the local food was tagged.\n",
    "- There were three different tags for pizza:\n",
    " - pizza\n",
    " - italian_pizza\n",
    " - fried_pizza\n",
    "\n",
    "The Italian pizza tag can be easily dropped as superfluous information. However, from experience I know that fried pizza is an option that not all pizzerias offer and is worth keeping.\n",
    " \n",
    "- There were multiple ways of tagging the local food:\n",
    " - italian\n",
    " - regional\n",
    " - regional,_italian\n",
    "\n",
    "\"Regional\" is also relavent because many restaurants like to distinguish themselves as being representative of the classic dishes of their area. However, \"regional italian\" can be shortened to \"regional\" without losing any information and increase conformity of the tags. \n",
    "\n",
    "The following dictionary and function were created to update the cuisine tags.\n",
    "```python\n",
    "cuisine_types = {\n",
    "    \"italian_pizza\": \"pizza\",\n",
    "    \"regional,_italian\": \"regional\"\n",
    "}\n",
    "\n",
    "def update_cuisine(cuisine_type):\n",
    "    \"\"\"\n",
    "    Updates a cuisine type\n",
    "    :param cuisine_type: type to fix\n",
    "    :return: corrected cuisine type\n",
    "    \"\"\"\n",
    "    if cuisine_type in cuisine_types.iterkeys():\n",
    "        return cuisine_types[cuisine_type]\n",
    "    else:\n",
    "        return cuisine_type\n",
    "```"
   ]
  },
  {
   "cell_type": "markdown",
   "metadata": {},
   "source": [
    "### Phone numbers\n",
    "A unique feature of Italian phone numbers is that their lengths can vary. For this reason I decided that the best way to store them was without dashes or spaces. That way a different format did not need to be managed for each possible phone number length.\n",
    "\n",
    "During the audit multiple discrepancies were found in the way phone numbers had been added. Out of 612 numbers:\n",
    "- 589 numbers included a country code\n",
    "- 572 numbers had spaces\n",
    "- 2 had dashes\n",
    "- 3 were missing the landline prefix (landlines are required to start with 0, while cellular numbers all start with 3)\n",
    "- 1 number was found with the wrong number of digits\n",
    "\n",
    "A function was created to conform the numbers. None is returned when the phone number is of the incorrect length to prevent keeping incorrect data.\n",
    "\n",
    "```python\n",
    "def update_number(number):\n",
    "    \"\"\"\n",
    "    Corrects number formatting\n",
    "    :param number: phone number to reformat\n",
    "    :return: phone number in +<country code><number> format\n",
    "    \"\"\"\n",
    "    # remove non-numeric characters\n",
    "    number = re.sub(r'[^\\d]', '', number)\n",
    "\n",
    "    # remove country code for length checking\n",
    "    number = re.sub(r'^39', '', number)\n",
    "\n",
    "    # Return None if the number is in the incorrect format\n",
    "    if not 6 <= len(number) <= 11:\n",
    "        return None\n",
    "\n",
    "    # Verify landlines include a 0 prefix.\n",
    "    # A land line is any number not starting with a 3.\n",
    "    number = re.sub(r'^([^03]\\d+)', r'0\\1', number)\n",
    "\n",
    "    # Insert country code\n",
    "    number = \"+39\" + number\n",
    "\n",
    "    return number\n",
    "```\n",
    "\n",
    "### The One That Got Away\n",
    "Later, while exploring the data in MongoDB I discovered an unexpected `type` value.\n",
    "```python\n",
    "napoli.distinct('type')\n",
    "[u'node', u'way', u'civil']\n",
    "```\n",
    "I recalled from the sample project in the course that the author had found an instance of second level \"k\" tags overwriting the top level data. To fix this I added a  check to the data.py module that prepended the string \"tag_\" to any \"k\" tags that already existed in the node. \n",
    "```python\n",
    "if k in node:\n",
    "    k = 'tag_' + k\n",
    "```\n",
    "This logic corrects problem without having to anticipate the \"k\" values that will cause conflicts."
   ]
  },
  {
   "cell_type": "markdown",
   "metadata": {},
   "source": [
    "## Exploring the data\n"
   ]
  },
  {
   "cell_type": "markdown",
   "metadata": {},
   "source": [
    "The `napoli.osm` XML file was 91.6 MB. The processing steps resulted in a 101 MB JSON file that was imported with the mongoimport command. The command below was used to import the JSON documents into a collection named \"napoli\" in the \"openstreetmap\" database.\n",
    "\n",
    "```batchfile\n",
    "'C:\\Program Files\\MongoDB\\Server\\3.6\\bin\\mongoimport.exe' /d openstreetmap /c napoli /file:.\\napoli.osm.json\n",
    "2018-05-06T14:19:59.322+0200    connected to: localhost\n",
    "2018-05-06T14:20:00.672+0200    [####....................] openstreetmap.napoli 19.2MB/101MB (18.9%)\n",
    "2018-05-06T14:20:03.671+0200    [#############...........] openstreetmap.napoli 58.8MB/101MB (58.1%)\n",
    "2018-05-06T14:20:06.670+0200    [########################] openstreetmap.napoli 101MB/101MB (100.0%)\n",
    "2018-05-06T14:20:06.677+0200    [########################] openstreetmap.napoli 101MB/101MB (100.0%)\n",
    "2018-05-06T14:20:06.678+0200    imported 478915 documents\n",
    "```\n",
    "\n",
    "The ouput showed that 478,915 documents were imported.\n",
    "\n",
    "### Connect to MongoDB\n",
    "The pymongo library provides tools that can be used to explore the database with python."
   ]
  },
  {
   "cell_type": "code",
   "execution_count": 1,
   "metadata": {},
   "outputs": [],
   "source": [
    "# Import necessary modules\n",
    "from pymongo import MongoClient, GEO2D\n",
    "import numpy as np\n",
    "\n",
    "# Create the client connection\n",
    "client = MongoClient('mongodb://localhost:27017')\n",
    "\n",
    "# Create a reference to the database and collection\n",
    "db = client.openstreetmap\n",
    "napoli = client.openstreetmap.napoli"
   ]
  },
  {
   "cell_type": "markdown",
   "metadata": {},
   "source": [
    "### Database Statistics"
   ]
  },
  {
   "cell_type": "code",
   "execution_count": 2,
   "metadata": {},
   "outputs": [
    {
     "name": "stdout",
     "output_type": "stream",
     "text": [
      "Colection Size: 109 MB\n",
      "Unique Users: 715\n",
      "Nodes: 412185\n",
      "Ways: 66730\n"
     ]
    }
   ],
   "source": [
    "# Convert bytes to megabytes\n",
    "def bytes_to_mb(size):\n",
    "    return size / 1024 / 1024\n",
    "\n",
    "# The db.command() method runs MongoDB commands on the database.\n",
    "# The collstats command returns a dictionary of collection statistics which contains 'size'\n",
    "coll_size = bytes_to_mb(db.command('collstats', 'napoli')['size'])\n",
    "\n",
    "# The distinct method returns unique values from a field. Here dot notation is used to get \n",
    "# all of the unique uid's from the created objects, and then the length is captured\n",
    "n_users = len(napoli.distinct('created.uid'))\n",
    "\n",
    "# The count method returns the number of results for each query.\n",
    "n_nodes = napoli.count({'type': 'node'})\n",
    "n_ways = napoli.count({'type': 'way'})\n",
    "\n",
    "print 'Colection Size: {} MB'.format(coll_size)\n",
    "print 'Unique Users: {}'.format(n_users)\n",
    "print 'Nodes: {}'.format(n_nodes)\n",
    "print 'Ways: {}'.format(n_ways)"
   ]
  },
  {
   "cell_type": "markdown",
   "metadata": {},
   "source": [
    "### 10 Most common cuisines\n",
    "\n",
    "MongoDB uses Aggregation Pipelines to run queries that aggregate totals. The pipelines break the process down into a list of steps."
   ]
  },
  {
   "cell_type": "code",
   "execution_count": 3,
   "metadata": {},
   "outputs": [
    {
     "name": "stdout",
     "output_type": "stream",
     "text": [
      "('italian', 104)\n",
      "('pizza', 91)\n",
      "('regional', 25)\n",
      "('seafood', 11)\n",
      "('coffee_shop', 9)\n",
      "('kebab', 7)\n",
      "('burger', 6)\n",
      "('fish', 5)\n",
      "('pasta', 3)\n",
      "('sandwich', 3)\n"
     ]
    }
   ],
   "source": [
    "# Create a list of aggregation steps to feed as a pipeline\n",
    "pipeline = [\n",
    "    # because the cuisine field is an array, it needs to be \"unwound\" before aggregation\n",
    "    {'$unwind': '$cuisine'},\n",
    "    # aggregate by cuisine type and count each type\n",
    "    {'$group': {\n",
    "        '_id': '$cuisine',\n",
    "        'count': {'$sum':1}\n",
    "        }\n",
    "    },\n",
    "    # sort descending\n",
    "    {'$sort': {'count': -1}},\n",
    "    # limiting to top 10\n",
    "    {'$limit': 10}\n",
    "]\n",
    "\n",
    "cuisine_counts = napoli.aggregate(pipeline)\n",
    "\n",
    "# Lambda function to modify the output of aggregate\n",
    "pretty_count = lambda x: (x['_id'].encode('utf-8'), x['count'])\n",
    "\n",
    "for count in cuisine_counts:\n",
    "   print(pretty_count(count))"
   ]
  },
  {
   "cell_type": "markdown",
   "metadata": {},
   "source": [
    "#### Mangiamo Italiano\n",
    "While Kebab and Burger have managed to make their way into the top 10, the rest are all Italian affair. Sandwhiches are also arguably international, but even they have a unique Italian flavor here.\n",
    "\n",
    "### Pizza on every corner\n",
    "Sometimes it feels like Napoli has pizzarias like U.S. cities have Starbucks. But MongoDB can use geospatial queries to make quantifiable measuremants.\n",
    "\n",
    "First, a geospacial index needs to created using the \"pos\" data.\n",
    "```python\n",
    "napoli.create_index([('pos', GEO2D)])\n",
    "```\n",
    "\n",
    "Then we can collect all of the pizzarias in the city of Napoli and store their positions. The full dataset includes rural surrounding areas, so the search will be restricted to the city itself."
   ]
  },
  {
   "cell_type": "code",
   "execution_count": 4,
   "metadata": {},
   "outputs": [],
   "source": [
    "pizzaria_locations = list(napoli.find(\n",
    "    {'cuisine': 'pizza', 'pos': {'$exists': 1}, 'address.city': 'Napoli'},\n",
    "    {'pos':1}))"
   ]
  },
  {
   "cell_type": "markdown",
   "metadata": {},
   "source": [
    "The `$geoNear` operator can be used to query for the nearest pizzaria to a location. This code will loop through all the pizzarias and build a list of distances to the next closest location."
   ]
  },
  {
   "cell_type": "code",
   "execution_count": 5,
   "metadata": {},
   "outputs": [],
   "source": [
    "distances = []\n",
    "for pizzaria in pizzaria_locations:\n",
    "    pipeline = [\n",
    "        {\n",
    "            '$geoNear': {\n",
    "                'near': pizzaria['pos'],  # use the current pizzarias position\n",
    "                'query': {\n",
    "                    'cuisine': 'pizza',  # find only pizzarias\n",
    "                    '_id': {'$ne': pizzaria['_id']}},  # but exclude the current pizzaria\n",
    "                'distanceMultiplier': 6371,  # Earth's radius in km, used to convert the result from radians\n",
    "                'distanceField': 'distance.calculated',\n",
    "                'num': 1,  # limit to only 1 result\n",
    "            }\n",
    "        },\n",
    "        {'$project': {'distance.calculated':1} }\n",
    "    ]\n",
    "    distances.append(napoli.aggregate(pipeline).next()['distance']['calculated'])"
   ]
  },
  {
   "cell_type": "markdown",
   "metadata": {},
   "source": [
    "Output statistics:"
   ]
  },
  {
   "cell_type": "code",
   "execution_count": 6,
   "metadata": {},
   "outputs": [
    {
     "name": "stdout",
     "output_type": "stream",
     "text": [
      "The average distance is 12.44 km\n",
      "The closest pizzarias were 0.84 km\n",
      "The farthest were 76.67 km\n"
     ]
    }
   ],
   "source": [
    "print 'The average distance is {:.2f} km'.format(np.mean(distances))\n",
    "print 'The closest pizzarias were {:.2f} km'.format(np.min(distances))\n",
    "print 'The farthest were {:.2f} km'.format(np.max(distances))"
   ]
  },
  {
   "cell_type": "markdown",
   "metadata": {},
   "source": [
    "The average and minimum distances are higher than I expected. I suspect that this is an indication of incomplete data and if more restaurants were accurately tagged the results would have shown the locations are much closer."
   ]
  },
  {
   "cell_type": "markdown",
   "metadata": {},
   "source": [
    "### Additional Improvements\n",
    "Querying the documents with \"tourism\" information revealed that aside from museums, the dataset contains very little information that could help a user explore Naples's storied past. It is possible that some of the sites tagged \"attraction\" could be historical, but this would require extra digging on the user's part."
   ]
  },
  {
   "cell_type": "code",
   "execution_count": 7,
   "metadata": {},
   "outputs": [
    {
     "name": "stdout",
     "output_type": "stream",
     "text": [
      "('gallery', 1)\n",
      "('apartment', 4)\n",
      "('hostel', 13)\n",
      "('theme_park', 3)\n",
      "('caravan_site', 4)\n",
      "('artwork', 10)\n",
      "('motel', 4)\n",
      "('yes', 4)\n",
      "('information', 16)\n",
      "('picnic_site', 5)\n",
      "('aquarium', 1)\n",
      "('viewpoint', 48)\n",
      "('museum', 49)\n",
      "('hotel', 163)\n",
      "('guest_house', 175)\n",
      "('camp_site', 3)\n",
      "('attraction', 23)\n"
     ]
    }
   ],
   "source": [
    "pipeline = [\n",
    "    {'$match': {\n",
    "        'tourism': {'$exists': 1}\n",
    "    }},\n",
    "    {'$group': {\n",
    "        '_id': '$tourism',\n",
    "        'count': {'$sum': 1}\n",
    "    }}\n",
    "]\n",
    "\n",
    "for count in napoli.aggregate(pipeline):\n",
    "    print(pretty_count(count))"
   ]
  },
  {
   "cell_type": "markdown",
   "metadata": {},
   "source": [
    "The [Comune di Napoli - Open Data][1] site has information that could enhance the dataset. Specifically, they have [shapefiles][5] for [Unesco zones][2], the [historic center][3] and for [archeological areas][4]. This information could be imported and specifically tagged for their historical significance. However, it would require additional wrangling to convert the shapefiles into JSON files so that they could be read into MongoDB.\n",
    "\n",
    "[1]: http://www.comune.napoli.it/opendata \"Comune di Napoli - Open Data\"\n",
    "[2]: http://www.comune.napoli.it/flex/cm/pages/ServeBLOB.php/L/IT/IDPagina/26349 \"Unesco zones\"\n",
    "[3]: http://www.comune.napoli.it/flex/cm/pages/ServeBLOB.php/L/IT/IDPagina/29759 \"Centro Storico: Historic center\"\n",
    "[4]: http://www.comune.napoli.it/flex/cm/pages/ServeBLOB.php/L/IT/IDPagina/29760 \"Archeological Areas\"\n",
    "[5]: https://en.wikipedia.org/wiki/Shapefile \"Shapefile - Wikipedia\""
   ]
  }
 ],
 "metadata": {
  "kernelspec": {
   "display_name": "Python 2",
   "language": "python",
   "name": "python2"
  },
  "language_info": {
   "codemirror_mode": {
    "name": "ipython",
    "version": 2
   },
   "file_extension": ".py",
   "mimetype": "text/x-python",
   "name": "python",
   "nbconvert_exporter": "python",
   "pygments_lexer": "ipython2",
   "version": "2.7.15"
  }
 },
 "nbformat": 4,
 "nbformat_minor": 1
}
